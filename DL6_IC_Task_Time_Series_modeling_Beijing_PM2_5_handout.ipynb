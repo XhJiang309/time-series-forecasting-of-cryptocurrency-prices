{
 "cells": [
  {
   "cell_type": "markdown",
   "metadata": {
    "id": "XnRZCGHBBRdi"
   },
   "source": [
    "# Modeling air pollution\n",
    "\n",
    "Let us try to predict Beijing's air pollution, especially [PM2.5](https://en.wikipedia.org/wiki/Particulates) values in advance!\n",
    "\n",
    "\n",
    "Inspiration comes from [here](https://machinelearningmastery.com/multivariate-time-series-forecasting-lstms-keras/).\n",
    "\n",
    "## Dataset\n",
    "\n",
    "[Beijing PM2.5 Data Data Set](https://archive.ics.uci.edu/ml/datasets/Beijing+PM2.5+Data)\n",
    "\n",
    "### Columns of the dataset:\n",
    "\n",
    "**No:** row number\n",
    "\n",
    "**year:** year of data in this row\n",
    "\n",
    "**month:** month of data in this row\n",
    "\n",
    "**day:** day of data in this row\n",
    "\n",
    "**hour:** hour of data in this row\n",
    "\n",
    "**pm2.5:** PM2.5 concentration\n",
    "\n",
    "**DEWP:** Dew Point\n",
    "\n",
    "**TEMP:** Temperature\n",
    "\n",
    "**PRES:** Pressure\n",
    "\n",
    "**cbwd:** Combined wind direction\n",
    "\n",
    "**Iws:** Cumulated wind speed\n",
    "\n",
    "**Is:** Cumulated hours of snow\n",
    "\n",
    "**Ir:** Cumulated hours of rain"
   ]
  },
  {
   "cell_type": "code",
   "execution_count": 1,
   "metadata": {
    "colab": {
     "base_uri": "https://localhost:8080/"
    },
    "collapsed": true,
    "id": "ljBkyosTBRdj",
    "outputId": "543b7ba9-953d-4ebd-e455-2d39fcaec0ae"
   },
   "outputs": [
    {
     "name": "stdout",
     "output_type": "stream",
     "text": [
      "--2022-10-17 16:10:30--  https://raw.githubusercontent.com/jbrownlee/Datasets/master/pollution.csv\n",
      "Resolving raw.githubusercontent.com (raw.githubusercontent.com)... 185.199.108.133, 185.199.109.133, 185.199.110.133, ...\n",
      "Connecting to raw.githubusercontent.com (raw.githubusercontent.com)|185.199.108.133|:443... connected.\n",
      "HTTP request sent, awaiting response... 200 OK\n",
      "Length: 2010492 (1.9M) [text/plain]\n",
      "Saving to: ‘pollution.csv’\n",
      "\n",
      "pollution.csv       100%[===================>]   1.92M  --.-KB/s    in 0.06s   \n",
      "\n",
      "2022-10-17 16:10:30 (32.9 MB/s) - ‘pollution.csv’ saved [2010492/2010492]\n",
      "\n"
     ]
    }
   ],
   "source": [
    "!wget https://raw.githubusercontent.com/jbrownlee/Datasets/master/pollution.csv"
   ]
  },
  {
   "cell_type": "code",
   "execution_count": 2,
   "metadata": {
    "colab": {
     "base_uri": "https://localhost:8080/"
    },
    "collapsed": true,
    "id": "a20WGtnFBRdk",
    "outputId": "6b2b7289-f3b9-47c4-932a-5f6b781bf5a4"
   },
   "outputs": [
    {
     "name": "stdout",
     "output_type": "stream",
     "text": [
      "Looking in indexes: https://pypi.org/simple, https://us-python.pkg.dev/colab-wheels/public/simple/\n",
      "Collecting seglearn\n",
      "  Downloading seglearn-1.2.5-py3-none-any.whl (11.3 MB)\n",
      "\u001b[K     |████████████████████████████████| 11.3 MB 4.3 MB/s \n",
      "\u001b[?25hRequirement already satisfied: scikit-learn>=0.21.3 in /usr/local/lib/python3.7/dist-packages (from seglearn) (1.0.2)\n",
      "Requirement already satisfied: numpy in /usr/local/lib/python3.7/dist-packages (from seglearn) (1.21.6)\n",
      "Requirement already satisfied: scipy in /usr/local/lib/python3.7/dist-packages (from seglearn) (1.7.3)\n",
      "Requirement already satisfied: joblib>=0.11 in /usr/local/lib/python3.7/dist-packages (from scikit-learn>=0.21.3->seglearn) (1.2.0)\n",
      "Requirement already satisfied: threadpoolctl>=2.0.0 in /usr/local/lib/python3.7/dist-packages (from scikit-learn>=0.21.3->seglearn) (3.1.0)\n",
      "Installing collected packages: seglearn\n",
      "Successfully installed seglearn-1.2.5\n"
     ]
    }
   ],
   "source": [
    "!pip install seglearn"
   ]
  },
  {
   "cell_type": "code",
   "execution_count": 3,
   "metadata": {
    "collapsed": true,
    "id": "59EnlMIvBRdl"
   },
   "outputs": [],
   "source": [
    "import pandas as pd \n",
    "import csv\n",
    "import numpy as np \n",
    "import matplotlib.pyplot as plt\n",
    "\n",
    "#import warnings\n",
    "#warnings.filterwarnings(\"ignore\")\n"
   ]
  },
  {
   "cell_type": "code",
   "execution_count": 4,
   "metadata": {
    "collapsed": true,
    "id": "vsX8VwyZBRdl"
   },
   "outputs": [],
   "source": [
    "def sniff_format(location):\n",
    "    with open(location, newline='') as csvfile:\n",
    "        sniffer = csv.Sniffer()\n",
    "        sample = csvfile.read(1024)\n",
    "        dialect = sniffer.sniff(sample)\n",
    "        header = sniffer.has_header(sample)\n",
    "        if header:\n",
    "            header=0\n",
    "        else:\n",
    "            header=None\n",
    "\n",
    "    return {\"dialect\":dialect, \"header\":header}\n",
    "\n",
    "def describe_full(df):\n",
    "    #pd.options.display.float_format = '{:.2f}'.format\n",
    "    dtypes_description=pd.DataFrame(dict(df.dtypes),[\"dtypes\"])\n",
    "    na_description = pd.DataFrame(dict(df.isna().sum()),[\"NA-s\"])\n",
    "    na_percent = ((pd.DataFrame(dict(df.isna().sum()),[\"NA%\"])/len(df))*100).round(decimals=2)\n",
    "    description = df.describe(include='all')\n",
    "    full_description = dtypes_description.append(na_description).append(na_percent).append(description).replace(np.nan, '', regex=True)\n",
    "\n",
    "    mask = full_description.loc[\"freq\",:]==1\n",
    "    full_description.at[[\"top\"],mask.index[mask]]=\"\"\n",
    "    #TODO: scientific notation - could be nicer\n",
    "    \n",
    "    return full_description"
   ]
  },
  {
   "cell_type": "code",
   "execution_count": 5,
   "metadata": {
    "colab": {
     "base_uri": "https://localhost:8080/",
     "height": 488
    },
    "id": "5l0A5uw8BRdl",
    "outputId": "2ee5a495-d958-4747-b32e-d6785c0bbfbd"
   },
   "outputs": [
    {
     "data": {
      "text/html": [
       "\n",
       "  <div id=\"df-909f90bf-b394-49ec-90d2-1c4a005f5c97\">\n",
       "    <div class=\"colab-df-container\">\n",
       "      <div>\n",
       "<style scoped>\n",
       "    .dataframe tbody tr th:only-of-type {\n",
       "        vertical-align: middle;\n",
       "    }\n",
       "\n",
       "    .dataframe tbody tr th {\n",
       "        vertical-align: top;\n",
       "    }\n",
       "\n",
       "    .dataframe thead th {\n",
       "        text-align: right;\n",
       "    }\n",
       "</style>\n",
       "<table border=\"1\" class=\"dataframe\">\n",
       "  <thead>\n",
       "    <tr style=\"text-align: right;\">\n",
       "      <th></th>\n",
       "      <th>No</th>\n",
       "      <th>year</th>\n",
       "      <th>month</th>\n",
       "      <th>day</th>\n",
       "      <th>hour</th>\n",
       "      <th>pm2.5</th>\n",
       "      <th>DEWP</th>\n",
       "      <th>TEMP</th>\n",
       "      <th>PRES</th>\n",
       "      <th>cbwd</th>\n",
       "      <th>Iws</th>\n",
       "      <th>Is</th>\n",
       "      <th>Ir</th>\n",
       "    </tr>\n",
       "  </thead>\n",
       "  <tbody>\n",
       "    <tr>\n",
       "      <th>dtypes</th>\n",
       "      <td>int64</td>\n",
       "      <td>int64</td>\n",
       "      <td>int64</td>\n",
       "      <td>int64</td>\n",
       "      <td>int64</td>\n",
       "      <td>float64</td>\n",
       "      <td>int64</td>\n",
       "      <td>float64</td>\n",
       "      <td>float64</td>\n",
       "      <td>object</td>\n",
       "      <td>float64</td>\n",
       "      <td>int64</td>\n",
       "      <td>int64</td>\n",
       "    </tr>\n",
       "    <tr>\n",
       "      <th>NA-s</th>\n",
       "      <td>0</td>\n",
       "      <td>0</td>\n",
       "      <td>0</td>\n",
       "      <td>0</td>\n",
       "      <td>0</td>\n",
       "      <td>2067</td>\n",
       "      <td>0</td>\n",
       "      <td>0</td>\n",
       "      <td>0</td>\n",
       "      <td>0</td>\n",
       "      <td>0</td>\n",
       "      <td>0</td>\n",
       "      <td>0</td>\n",
       "    </tr>\n",
       "    <tr>\n",
       "      <th>NA%</th>\n",
       "      <td>0.0</td>\n",
       "      <td>0.0</td>\n",
       "      <td>0.0</td>\n",
       "      <td>0.0</td>\n",
       "      <td>0.0</td>\n",
       "      <td>4.72</td>\n",
       "      <td>0.0</td>\n",
       "      <td>0.0</td>\n",
       "      <td>0.0</td>\n",
       "      <td>0.0</td>\n",
       "      <td>0.0</td>\n",
       "      <td>0.0</td>\n",
       "      <td>0.0</td>\n",
       "    </tr>\n",
       "    <tr>\n",
       "      <th>count</th>\n",
       "      <td>43824.0</td>\n",
       "      <td>43824.0</td>\n",
       "      <td>43824.0</td>\n",
       "      <td>43824.0</td>\n",
       "      <td>43824.0</td>\n",
       "      <td>41757.0</td>\n",
       "      <td>43824.0</td>\n",
       "      <td>43824.0</td>\n",
       "      <td>43824.0</td>\n",
       "      <td>43824</td>\n",
       "      <td>43824.0</td>\n",
       "      <td>43824.0</td>\n",
       "      <td>43824.0</td>\n",
       "    </tr>\n",
       "    <tr>\n",
       "      <th>unique</th>\n",
       "      <td></td>\n",
       "      <td></td>\n",
       "      <td></td>\n",
       "      <td></td>\n",
       "      <td></td>\n",
       "      <td></td>\n",
       "      <td></td>\n",
       "      <td></td>\n",
       "      <td></td>\n",
       "      <td>4</td>\n",
       "      <td></td>\n",
       "      <td></td>\n",
       "      <td></td>\n",
       "    </tr>\n",
       "    <tr>\n",
       "      <th>top</th>\n",
       "      <td></td>\n",
       "      <td></td>\n",
       "      <td></td>\n",
       "      <td></td>\n",
       "      <td></td>\n",
       "      <td></td>\n",
       "      <td></td>\n",
       "      <td></td>\n",
       "      <td></td>\n",
       "      <td>SE</td>\n",
       "      <td></td>\n",
       "      <td></td>\n",
       "      <td></td>\n",
       "    </tr>\n",
       "    <tr>\n",
       "      <th>freq</th>\n",
       "      <td></td>\n",
       "      <td></td>\n",
       "      <td></td>\n",
       "      <td></td>\n",
       "      <td></td>\n",
       "      <td></td>\n",
       "      <td></td>\n",
       "      <td></td>\n",
       "      <td></td>\n",
       "      <td>15290</td>\n",
       "      <td></td>\n",
       "      <td></td>\n",
       "      <td></td>\n",
       "    </tr>\n",
       "    <tr>\n",
       "      <th>mean</th>\n",
       "      <td>21912.5</td>\n",
       "      <td>2012.0</td>\n",
       "      <td>6.523549</td>\n",
       "      <td>15.72782</td>\n",
       "      <td>11.5</td>\n",
       "      <td>98.613215</td>\n",
       "      <td>1.817246</td>\n",
       "      <td>12.448521</td>\n",
       "      <td>1016.447654</td>\n",
       "      <td></td>\n",
       "      <td>23.88914</td>\n",
       "      <td>0.052734</td>\n",
       "      <td>0.194916</td>\n",
       "    </tr>\n",
       "    <tr>\n",
       "      <th>std</th>\n",
       "      <td>12651.043435</td>\n",
       "      <td>1.413842</td>\n",
       "      <td>3.448572</td>\n",
       "      <td>8.799425</td>\n",
       "      <td>6.922266</td>\n",
       "      <td>92.050387</td>\n",
       "      <td>14.43344</td>\n",
       "      <td>12.198613</td>\n",
       "      <td>10.268698</td>\n",
       "      <td></td>\n",
       "      <td>50.010635</td>\n",
       "      <td>0.760375</td>\n",
       "      <td>1.415867</td>\n",
       "    </tr>\n",
       "    <tr>\n",
       "      <th>min</th>\n",
       "      <td>1.0</td>\n",
       "      <td>2010.0</td>\n",
       "      <td>1.0</td>\n",
       "      <td>1.0</td>\n",
       "      <td>0.0</td>\n",
       "      <td>0.0</td>\n",
       "      <td>-40.0</td>\n",
       "      <td>-19.0</td>\n",
       "      <td>991.0</td>\n",
       "      <td></td>\n",
       "      <td>0.45</td>\n",
       "      <td>0.0</td>\n",
       "      <td>0.0</td>\n",
       "    </tr>\n",
       "    <tr>\n",
       "      <th>25%</th>\n",
       "      <td>10956.75</td>\n",
       "      <td>2011.0</td>\n",
       "      <td>4.0</td>\n",
       "      <td>8.0</td>\n",
       "      <td>5.75</td>\n",
       "      <td>29.0</td>\n",
       "      <td>-10.0</td>\n",
       "      <td>2.0</td>\n",
       "      <td>1008.0</td>\n",
       "      <td></td>\n",
       "      <td>1.79</td>\n",
       "      <td>0.0</td>\n",
       "      <td>0.0</td>\n",
       "    </tr>\n",
       "    <tr>\n",
       "      <th>50%</th>\n",
       "      <td>21912.5</td>\n",
       "      <td>2012.0</td>\n",
       "      <td>7.0</td>\n",
       "      <td>16.0</td>\n",
       "      <td>11.5</td>\n",
       "      <td>72.0</td>\n",
       "      <td>2.0</td>\n",
       "      <td>14.0</td>\n",
       "      <td>1016.0</td>\n",
       "      <td></td>\n",
       "      <td>5.37</td>\n",
       "      <td>0.0</td>\n",
       "      <td>0.0</td>\n",
       "    </tr>\n",
       "    <tr>\n",
       "      <th>75%</th>\n",
       "      <td>32868.25</td>\n",
       "      <td>2013.0</td>\n",
       "      <td>10.0</td>\n",
       "      <td>23.0</td>\n",
       "      <td>17.25</td>\n",
       "      <td>137.0</td>\n",
       "      <td>15.0</td>\n",
       "      <td>23.0</td>\n",
       "      <td>1025.0</td>\n",
       "      <td></td>\n",
       "      <td>21.91</td>\n",
       "      <td>0.0</td>\n",
       "      <td>0.0</td>\n",
       "    </tr>\n",
       "    <tr>\n",
       "      <th>max</th>\n",
       "      <td>43824.0</td>\n",
       "      <td>2014.0</td>\n",
       "      <td>12.0</td>\n",
       "      <td>31.0</td>\n",
       "      <td>23.0</td>\n",
       "      <td>994.0</td>\n",
       "      <td>28.0</td>\n",
       "      <td>42.0</td>\n",
       "      <td>1046.0</td>\n",
       "      <td></td>\n",
       "      <td>585.6</td>\n",
       "      <td>27.0</td>\n",
       "      <td>36.0</td>\n",
       "    </tr>\n",
       "  </tbody>\n",
       "</table>\n",
       "</div>\n",
       "      <button class=\"colab-df-convert\" onclick=\"convertToInteractive('df-909f90bf-b394-49ec-90d2-1c4a005f5c97')\"\n",
       "              title=\"Convert this dataframe to an interactive table.\"\n",
       "              style=\"display:none;\">\n",
       "        \n",
       "  <svg xmlns=\"http://www.w3.org/2000/svg\" height=\"24px\"viewBox=\"0 0 24 24\"\n",
       "       width=\"24px\">\n",
       "    <path d=\"M0 0h24v24H0V0z\" fill=\"none\"/>\n",
       "    <path d=\"M18.56 5.44l.94 2.06.94-2.06 2.06-.94-2.06-.94-.94-2.06-.94 2.06-2.06.94zm-11 1L8.5 8.5l.94-2.06 2.06-.94-2.06-.94L8.5 2.5l-.94 2.06-2.06.94zm10 10l.94 2.06.94-2.06 2.06-.94-2.06-.94-.94-2.06-.94 2.06-2.06.94z\"/><path d=\"M17.41 7.96l-1.37-1.37c-.4-.4-.92-.59-1.43-.59-.52 0-1.04.2-1.43.59L10.3 9.45l-7.72 7.72c-.78.78-.78 2.05 0 2.83L4 21.41c.39.39.9.59 1.41.59.51 0 1.02-.2 1.41-.59l7.78-7.78 2.81-2.81c.8-.78.8-2.07 0-2.86zM5.41 20L4 18.59l7.72-7.72 1.47 1.35L5.41 20z\"/>\n",
       "  </svg>\n",
       "      </button>\n",
       "      \n",
       "  <style>\n",
       "    .colab-df-container {\n",
       "      display:flex;\n",
       "      flex-wrap:wrap;\n",
       "      gap: 12px;\n",
       "    }\n",
       "\n",
       "    .colab-df-convert {\n",
       "      background-color: #E8F0FE;\n",
       "      border: none;\n",
       "      border-radius: 50%;\n",
       "      cursor: pointer;\n",
       "      display: none;\n",
       "      fill: #1967D2;\n",
       "      height: 32px;\n",
       "      padding: 0 0 0 0;\n",
       "      width: 32px;\n",
       "    }\n",
       "\n",
       "    .colab-df-convert:hover {\n",
       "      background-color: #E2EBFA;\n",
       "      box-shadow: 0px 1px 2px rgba(60, 64, 67, 0.3), 0px 1px 3px 1px rgba(60, 64, 67, 0.15);\n",
       "      fill: #174EA6;\n",
       "    }\n",
       "\n",
       "    [theme=dark] .colab-df-convert {\n",
       "      background-color: #3B4455;\n",
       "      fill: #D2E3FC;\n",
       "    }\n",
       "\n",
       "    [theme=dark] .colab-df-convert:hover {\n",
       "      background-color: #434B5C;\n",
       "      box-shadow: 0px 1px 3px 1px rgba(0, 0, 0, 0.15);\n",
       "      filter: drop-shadow(0px 1px 2px rgba(0, 0, 0, 0.3));\n",
       "      fill: #FFFFFF;\n",
       "    }\n",
       "  </style>\n",
       "\n",
       "      <script>\n",
       "        const buttonEl =\n",
       "          document.querySelector('#df-909f90bf-b394-49ec-90d2-1c4a005f5c97 button.colab-df-convert');\n",
       "        buttonEl.style.display =\n",
       "          google.colab.kernel.accessAllowed ? 'block' : 'none';\n",
       "\n",
       "        async function convertToInteractive(key) {\n",
       "          const element = document.querySelector('#df-909f90bf-b394-49ec-90d2-1c4a005f5c97');\n",
       "          const dataTable =\n",
       "            await google.colab.kernel.invokeFunction('convertToInteractive',\n",
       "                                                     [key], {});\n",
       "          if (!dataTable) return;\n",
       "\n",
       "          const docLinkHtml = 'Like what you see? Visit the ' +\n",
       "            '<a target=\"_blank\" href=https://colab.research.google.com/notebooks/data_table.ipynb>data table notebook</a>'\n",
       "            + ' to learn more about interactive tables.';\n",
       "          element.innerHTML = '';\n",
       "          dataTable['output_type'] = 'display_data';\n",
       "          await google.colab.output.renderOutput(dataTable, element);\n",
       "          const docLink = document.createElement('div');\n",
       "          docLink.innerHTML = docLinkHtml;\n",
       "          element.appendChild(docLink);\n",
       "        }\n",
       "      </script>\n",
       "    </div>\n",
       "  </div>\n",
       "  "
      ],
      "text/plain": [
       "                  No      year     month       day      hour      pm2.5  \\\n",
       "dtypes         int64     int64     int64     int64     int64    float64   \n",
       "NA-s               0         0         0         0         0       2067   \n",
       "NA%              0.0       0.0       0.0       0.0       0.0       4.72   \n",
       "count        43824.0   43824.0   43824.0   43824.0   43824.0    41757.0   \n",
       "unique                                                                    \n",
       "top                                                                       \n",
       "freq                                                                      \n",
       "mean         21912.5    2012.0  6.523549  15.72782      11.5  98.613215   \n",
       "std     12651.043435  1.413842  3.448572  8.799425  6.922266  92.050387   \n",
       "min              1.0    2010.0       1.0       1.0       0.0        0.0   \n",
       "25%         10956.75    2011.0       4.0       8.0      5.75       29.0   \n",
       "50%          21912.5    2012.0       7.0      16.0      11.5       72.0   \n",
       "75%         32868.25    2013.0      10.0      23.0     17.25      137.0   \n",
       "max          43824.0    2014.0      12.0      31.0      23.0      994.0   \n",
       "\n",
       "            DEWP       TEMP         PRES    cbwd        Iws        Is  \\\n",
       "dtypes     int64    float64      float64  object    float64     int64   \n",
       "NA-s           0          0            0       0          0         0   \n",
       "NA%          0.0        0.0          0.0     0.0        0.0       0.0   \n",
       "count    43824.0    43824.0      43824.0   43824    43824.0   43824.0   \n",
       "unique                                         4                        \n",
       "top                                           SE                        \n",
       "freq                                       15290                        \n",
       "mean    1.817246  12.448521  1016.447654           23.88914  0.052734   \n",
       "std     14.43344  12.198613    10.268698          50.010635  0.760375   \n",
       "min        -40.0      -19.0        991.0               0.45       0.0   \n",
       "25%        -10.0        2.0       1008.0               1.79       0.0   \n",
       "50%          2.0       14.0       1016.0               5.37       0.0   \n",
       "75%         15.0       23.0       1025.0              21.91       0.0   \n",
       "max         28.0       42.0       1046.0              585.6      27.0   \n",
       "\n",
       "              Ir  \n",
       "dtypes     int64  \n",
       "NA-s           0  \n",
       "NA%          0.0  \n",
       "count    43824.0  \n",
       "unique            \n",
       "top               \n",
       "freq              \n",
       "mean    0.194916  \n",
       "std     1.415867  \n",
       "min          0.0  \n",
       "25%          0.0  \n",
       "50%          0.0  \n",
       "75%          0.0  \n",
       "max         36.0  "
      ]
     },
     "execution_count": 5,
     "metadata": {},
     "output_type": "execute_result"
    }
   ],
   "source": [
    "csv_format = sniff_format(\"pollution.csv\")\n",
    "\n",
    "df = pd.read_csv(\"pollution.csv\",header=csv_format[\"header\"],dialect=csv_format[\"dialect\"])\n",
    "\n",
    "#There is a warning that would be worth investigationg, but for now, let's ignore it\n",
    "import warnings\n",
    "warnings.filterwarnings(\"ignore\")\n",
    "\n",
    "describe_full(df)"
   ]
  },
  {
   "cell_type": "code",
   "execution_count": 6,
   "metadata": {
    "collapsed": true,
    "id": "ojSypnBtBRdm"
   },
   "outputs": [],
   "source": [
    "#Safety assertions to ensure, that No is as it seems an index column sorted, series\n",
    "pd.testing.assert_series_equal(df.No,df.No.sort_values())\n",
    "np.testing.assert_array_equal((df.No-df.No[0]).values, np.arange(0,df.shape[0],1))\n",
    "#Don't really need these if we decide to go for date based indexing"
   ]
  },
  {
   "cell_type": "code",
   "execution_count": 7,
   "metadata": {
    "colab": {
     "base_uri": "https://localhost:8080/",
     "height": 394
    },
    "id": "FcBHqg-yBRdm",
    "outputId": "1a6f0611-f5ff-4dea-f5b6-53ae0e2db251"
   },
   "outputs": [
    {
     "data": {
      "text/html": [
       "\n",
       "  <div id=\"df-0bd0daf9-cdd9-48bb-b81c-6f9d68abce4f\">\n",
       "    <div class=\"colab-df-container\">\n",
       "      <div>\n",
       "<style scoped>\n",
       "    .dataframe tbody tr th:only-of-type {\n",
       "        vertical-align: middle;\n",
       "    }\n",
       "\n",
       "    .dataframe tbody tr th {\n",
       "        vertical-align: top;\n",
       "    }\n",
       "\n",
       "    .dataframe thead th {\n",
       "        text-align: right;\n",
       "    }\n",
       "</style>\n",
       "<table border=\"1\" class=\"dataframe\">\n",
       "  <thead>\n",
       "    <tr style=\"text-align: right;\">\n",
       "      <th></th>\n",
       "      <th>year</th>\n",
       "      <th>month</th>\n",
       "      <th>day</th>\n",
       "      <th>hour</th>\n",
       "      <th>pm2.5</th>\n",
       "      <th>DEWP</th>\n",
       "      <th>TEMP</th>\n",
       "      <th>PRES</th>\n",
       "      <th>cbwd</th>\n",
       "      <th>Iws</th>\n",
       "      <th>Is</th>\n",
       "      <th>Ir</th>\n",
       "    </tr>\n",
       "    <tr>\n",
       "      <th>date</th>\n",
       "      <th></th>\n",
       "      <th></th>\n",
       "      <th></th>\n",
       "      <th></th>\n",
       "      <th></th>\n",
       "      <th></th>\n",
       "      <th></th>\n",
       "      <th></th>\n",
       "      <th></th>\n",
       "      <th></th>\n",
       "      <th></th>\n",
       "      <th></th>\n",
       "    </tr>\n",
       "  </thead>\n",
       "  <tbody>\n",
       "    <tr>\n",
       "      <th>2010-01-01 00:00:00</th>\n",
       "      <td>2010</td>\n",
       "      <td>1</td>\n",
       "      <td>1</td>\n",
       "      <td>0</td>\n",
       "      <td>NaN</td>\n",
       "      <td>-21</td>\n",
       "      <td>-11.0</td>\n",
       "      <td>1021.0</td>\n",
       "      <td>NW</td>\n",
       "      <td>1.79</td>\n",
       "      <td>0</td>\n",
       "      <td>0</td>\n",
       "    </tr>\n",
       "    <tr>\n",
       "      <th>2010-01-01 01:00:00</th>\n",
       "      <td>2010</td>\n",
       "      <td>1</td>\n",
       "      <td>1</td>\n",
       "      <td>1</td>\n",
       "      <td>NaN</td>\n",
       "      <td>-21</td>\n",
       "      <td>-12.0</td>\n",
       "      <td>1020.0</td>\n",
       "      <td>NW</td>\n",
       "      <td>4.92</td>\n",
       "      <td>0</td>\n",
       "      <td>0</td>\n",
       "    </tr>\n",
       "    <tr>\n",
       "      <th>2010-01-01 02:00:00</th>\n",
       "      <td>2010</td>\n",
       "      <td>1</td>\n",
       "      <td>1</td>\n",
       "      <td>2</td>\n",
       "      <td>NaN</td>\n",
       "      <td>-21</td>\n",
       "      <td>-11.0</td>\n",
       "      <td>1019.0</td>\n",
       "      <td>NW</td>\n",
       "      <td>6.71</td>\n",
       "      <td>0</td>\n",
       "      <td>0</td>\n",
       "    </tr>\n",
       "    <tr>\n",
       "      <th>2010-01-01 03:00:00</th>\n",
       "      <td>2010</td>\n",
       "      <td>1</td>\n",
       "      <td>1</td>\n",
       "      <td>3</td>\n",
       "      <td>NaN</td>\n",
       "      <td>-21</td>\n",
       "      <td>-14.0</td>\n",
       "      <td>1019.0</td>\n",
       "      <td>NW</td>\n",
       "      <td>9.84</td>\n",
       "      <td>0</td>\n",
       "      <td>0</td>\n",
       "    </tr>\n",
       "    <tr>\n",
       "      <th>2010-01-01 04:00:00</th>\n",
       "      <td>2010</td>\n",
       "      <td>1</td>\n",
       "      <td>1</td>\n",
       "      <td>4</td>\n",
       "      <td>NaN</td>\n",
       "      <td>-20</td>\n",
       "      <td>-12.0</td>\n",
       "      <td>1018.0</td>\n",
       "      <td>NW</td>\n",
       "      <td>12.97</td>\n",
       "      <td>0</td>\n",
       "      <td>0</td>\n",
       "    </tr>\n",
       "    <tr>\n",
       "      <th>2010-01-01 05:00:00</th>\n",
       "      <td>2010</td>\n",
       "      <td>1</td>\n",
       "      <td>1</td>\n",
       "      <td>5</td>\n",
       "      <td>NaN</td>\n",
       "      <td>-19</td>\n",
       "      <td>-10.0</td>\n",
       "      <td>1017.0</td>\n",
       "      <td>NW</td>\n",
       "      <td>16.10</td>\n",
       "      <td>0</td>\n",
       "      <td>0</td>\n",
       "    </tr>\n",
       "    <tr>\n",
       "      <th>2010-01-01 06:00:00</th>\n",
       "      <td>2010</td>\n",
       "      <td>1</td>\n",
       "      <td>1</td>\n",
       "      <td>6</td>\n",
       "      <td>NaN</td>\n",
       "      <td>-19</td>\n",
       "      <td>-9.0</td>\n",
       "      <td>1017.0</td>\n",
       "      <td>NW</td>\n",
       "      <td>19.23</td>\n",
       "      <td>0</td>\n",
       "      <td>0</td>\n",
       "    </tr>\n",
       "    <tr>\n",
       "      <th>2010-01-01 07:00:00</th>\n",
       "      <td>2010</td>\n",
       "      <td>1</td>\n",
       "      <td>1</td>\n",
       "      <td>7</td>\n",
       "      <td>NaN</td>\n",
       "      <td>-19</td>\n",
       "      <td>-9.0</td>\n",
       "      <td>1017.0</td>\n",
       "      <td>NW</td>\n",
       "      <td>21.02</td>\n",
       "      <td>0</td>\n",
       "      <td>0</td>\n",
       "    </tr>\n",
       "    <tr>\n",
       "      <th>2010-01-01 08:00:00</th>\n",
       "      <td>2010</td>\n",
       "      <td>1</td>\n",
       "      <td>1</td>\n",
       "      <td>8</td>\n",
       "      <td>NaN</td>\n",
       "      <td>-19</td>\n",
       "      <td>-9.0</td>\n",
       "      <td>1017.0</td>\n",
       "      <td>NW</td>\n",
       "      <td>24.15</td>\n",
       "      <td>0</td>\n",
       "      <td>0</td>\n",
       "    </tr>\n",
       "    <tr>\n",
       "      <th>2010-01-01 09:00:00</th>\n",
       "      <td>2010</td>\n",
       "      <td>1</td>\n",
       "      <td>1</td>\n",
       "      <td>9</td>\n",
       "      <td>NaN</td>\n",
       "      <td>-20</td>\n",
       "      <td>-8.0</td>\n",
       "      <td>1017.0</td>\n",
       "      <td>NW</td>\n",
       "      <td>27.28</td>\n",
       "      <td>0</td>\n",
       "      <td>0</td>\n",
       "    </tr>\n",
       "  </tbody>\n",
       "</table>\n",
       "</div>\n",
       "      <button class=\"colab-df-convert\" onclick=\"convertToInteractive('df-0bd0daf9-cdd9-48bb-b81c-6f9d68abce4f')\"\n",
       "              title=\"Convert this dataframe to an interactive table.\"\n",
       "              style=\"display:none;\">\n",
       "        \n",
       "  <svg xmlns=\"http://www.w3.org/2000/svg\" height=\"24px\"viewBox=\"0 0 24 24\"\n",
       "       width=\"24px\">\n",
       "    <path d=\"M0 0h24v24H0V0z\" fill=\"none\"/>\n",
       "    <path d=\"M18.56 5.44l.94 2.06.94-2.06 2.06-.94-2.06-.94-.94-2.06-.94 2.06-2.06.94zm-11 1L8.5 8.5l.94-2.06 2.06-.94-2.06-.94L8.5 2.5l-.94 2.06-2.06.94zm10 10l.94 2.06.94-2.06 2.06-.94-2.06-.94-.94-2.06-.94 2.06-2.06.94z\"/><path d=\"M17.41 7.96l-1.37-1.37c-.4-.4-.92-.59-1.43-.59-.52 0-1.04.2-1.43.59L10.3 9.45l-7.72 7.72c-.78.78-.78 2.05 0 2.83L4 21.41c.39.39.9.59 1.41.59.51 0 1.02-.2 1.41-.59l7.78-7.78 2.81-2.81c.8-.78.8-2.07 0-2.86zM5.41 20L4 18.59l7.72-7.72 1.47 1.35L5.41 20z\"/>\n",
       "  </svg>\n",
       "      </button>\n",
       "      \n",
       "  <style>\n",
       "    .colab-df-container {\n",
       "      display:flex;\n",
       "      flex-wrap:wrap;\n",
       "      gap: 12px;\n",
       "    }\n",
       "\n",
       "    .colab-df-convert {\n",
       "      background-color: #E8F0FE;\n",
       "      border: none;\n",
       "      border-radius: 50%;\n",
       "      cursor: pointer;\n",
       "      display: none;\n",
       "      fill: #1967D2;\n",
       "      height: 32px;\n",
       "      padding: 0 0 0 0;\n",
       "      width: 32px;\n",
       "    }\n",
       "\n",
       "    .colab-df-convert:hover {\n",
       "      background-color: #E2EBFA;\n",
       "      box-shadow: 0px 1px 2px rgba(60, 64, 67, 0.3), 0px 1px 3px 1px rgba(60, 64, 67, 0.15);\n",
       "      fill: #174EA6;\n",
       "    }\n",
       "\n",
       "    [theme=dark] .colab-df-convert {\n",
       "      background-color: #3B4455;\n",
       "      fill: #D2E3FC;\n",
       "    }\n",
       "\n",
       "    [theme=dark] .colab-df-convert:hover {\n",
       "      background-color: #434B5C;\n",
       "      box-shadow: 0px 1px 3px 1px rgba(0, 0, 0, 0.15);\n",
       "      filter: drop-shadow(0px 1px 2px rgba(0, 0, 0, 0.3));\n",
       "      fill: #FFFFFF;\n",
       "    }\n",
       "  </style>\n",
       "\n",
       "      <script>\n",
       "        const buttonEl =\n",
       "          document.querySelector('#df-0bd0daf9-cdd9-48bb-b81c-6f9d68abce4f button.colab-df-convert');\n",
       "        buttonEl.style.display =\n",
       "          google.colab.kernel.accessAllowed ? 'block' : 'none';\n",
       "\n",
       "        async function convertToInteractive(key) {\n",
       "          const element = document.querySelector('#df-0bd0daf9-cdd9-48bb-b81c-6f9d68abce4f');\n",
       "          const dataTable =\n",
       "            await google.colab.kernel.invokeFunction('convertToInteractive',\n",
       "                                                     [key], {});\n",
       "          if (!dataTable) return;\n",
       "\n",
       "          const docLinkHtml = 'Like what you see? Visit the ' +\n",
       "            '<a target=\"_blank\" href=https://colab.research.google.com/notebooks/data_table.ipynb>data table notebook</a>'\n",
       "            + ' to learn more about interactive tables.';\n",
       "          element.innerHTML = '';\n",
       "          dataTable['output_type'] = 'display_data';\n",
       "          await google.colab.output.renderOutput(dataTable, element);\n",
       "          const docLink = document.createElement('div');\n",
       "          docLink.innerHTML = docLinkHtml;\n",
       "          element.appendChild(docLink);\n",
       "        }\n",
       "      </script>\n",
       "    </div>\n",
       "  </div>\n",
       "  "
      ],
      "text/plain": [
       "                     year  month  day  hour  pm2.5  DEWP  TEMP    PRES cbwd  \\\n",
       "date                                                                          \n",
       "2010-01-01 00:00:00  2010      1    1     0    NaN   -21 -11.0  1021.0   NW   \n",
       "2010-01-01 01:00:00  2010      1    1     1    NaN   -21 -12.0  1020.0   NW   \n",
       "2010-01-01 02:00:00  2010      1    1     2    NaN   -21 -11.0  1019.0   NW   \n",
       "2010-01-01 03:00:00  2010      1    1     3    NaN   -21 -14.0  1019.0   NW   \n",
       "2010-01-01 04:00:00  2010      1    1     4    NaN   -20 -12.0  1018.0   NW   \n",
       "2010-01-01 05:00:00  2010      1    1     5    NaN   -19 -10.0  1017.0   NW   \n",
       "2010-01-01 06:00:00  2010      1    1     6    NaN   -19  -9.0  1017.0   NW   \n",
       "2010-01-01 07:00:00  2010      1    1     7    NaN   -19  -9.0  1017.0   NW   \n",
       "2010-01-01 08:00:00  2010      1    1     8    NaN   -19  -9.0  1017.0   NW   \n",
       "2010-01-01 09:00:00  2010      1    1     9    NaN   -20  -8.0  1017.0   NW   \n",
       "\n",
       "                       Iws  Is  Ir  \n",
       "date                                \n",
       "2010-01-01 00:00:00   1.79   0   0  \n",
       "2010-01-01 01:00:00   4.92   0   0  \n",
       "2010-01-01 02:00:00   6.71   0   0  \n",
       "2010-01-01 03:00:00   9.84   0   0  \n",
       "2010-01-01 04:00:00  12.97   0   0  \n",
       "2010-01-01 05:00:00  16.10   0   0  \n",
       "2010-01-01 06:00:00  19.23   0   0  \n",
       "2010-01-01 07:00:00  21.02   0   0  \n",
       "2010-01-01 08:00:00  24.15   0   0  \n",
       "2010-01-01 09:00:00  27.28   0   0  "
      ]
     },
     "execution_count": 7,
     "metadata": {},
     "output_type": "execute_result"
    }
   ],
   "source": [
    "df.drop(\"No\",axis=1, inplace=True)\n",
    "df[\"date\"]= pd.to_datetime(df['year'].astype(str)+'-'+df['month'].astype(str)+\"-\"+df[\"day\"].astype(str)+\"T\"+df[\"hour\"].astype(str).apply(lambda x: x.zfill(2)+\":00\"))\n",
    "df.set_index(df.date, inplace=True)\n",
    "df.drop(\"date\", axis=1, inplace=True)\n",
    "df.head(10)"
   ]
  },
  {
   "cell_type": "markdown",
   "metadata": {
    "id": "VBbXgP2NBRdm"
   },
   "source": [
    "## Encoding day of week\n",
    "\n",
    "We explicitly encode the day of week, since we assume that weekends and workdays behave differently."
   ]
  },
  {
   "cell_type": "code",
   "execution_count": 8,
   "metadata": {
    "collapsed": true,
    "id": "a65D6-P3BRdm"
   },
   "outputs": [],
   "source": [
    "df[\"dayofweek\"]=df.index.dayofweek+1"
   ]
  },
  {
   "cell_type": "markdown",
   "metadata": {
    "id": "Gr0DZBh7BRdn"
   },
   "source": [
    "# Decision about NaN-s"
   ]
  },
  {
   "cell_type": "code",
   "execution_count": 9,
   "metadata": {
    "colab": {
     "base_uri": "https://localhost:8080/",
     "height": 460
    },
    "collapsed": true,
    "id": "IhiVAm0wBRdn",
    "outputId": "4b18c24e-39bf-4fce-e80d-5c7097953783"
   },
   "outputs": [
    {
     "data": {
      "text/plain": [
       "<matplotlib.axes._subplots.AxesSubplot at 0x7f5113af3450>"
      ]
     },
     "execution_count": 9,
     "metadata": {},
     "output_type": "execute_result"
    },
    {
     "data": {
      "image/png": "[encoded data removed]",
      "text/plain": [
       "<Figure size 720x504 with 1 Axes>"
      ]
     },
     "metadata": {
      "needs_background": "light"
     },
     "output_type": "display_data"
    }
   ],
   "source": [
    "fig = plt.gcf()\n",
    "fig.set_size_inches(10,7)\n",
    "df[\"pm2.5\"].isnull().astype(float).plot()"
   ]
  },
  {
   "cell_type": "code",
   "execution_count": 10,
   "metadata": {
    "colab": {
     "base_uri": "https://localhost:8080/"
    },
    "id": "oAdmm0OcBRdn",
    "outputId": "c5e9c8f2-ac4f-4cf8-c1f2-f353e26d3854"
   },
   "outputs": [
    {
     "name": "stdout",
     "output_type": "stream",
     "text": [
      "1-----\n",
      "% NaN datapoints per year: date\n",
      "2010    8.268446\n",
      "2011    9.063745\n",
      "2012    5.895118\n",
      "2013    0.944918\n",
      "2014    1.143055\n",
      "Name: pm2.5, dtype: float64\n",
      "2--------------------------------\n",
      "% NaN datapoints per month: date\n",
      "1      7.173725\n",
      "2      0.326119\n",
      "3      4.611924\n",
      "4      5.726872\n",
      "5      3.075644\n",
      "6      5.726872\n",
      "7      2.001645\n",
      "8     11.477375\n",
      "9      8.010801\n",
      "10     3.939648\n",
      "11     2.827763\n",
      "12     5.055069\n",
      "Name: pm2.5, dtype: float64\n",
      "3--------------------------------\n",
      "% NaN datapoints per dayofweek: date\n",
      "0    5.757218\n",
      "1    5.596763\n",
      "2    4.591752\n",
      "3    3.809682\n",
      "4    4.070444\n",
      "5    4.977376\n",
      "6    5.882353\n",
      "Name: pm2.5, dtype: float64\n",
      "4--------------------------------\n",
      "% NaN datapoints per hour: date\n",
      "0     5.244957\n",
      "1     4.641834\n",
      "2     5.002875\n",
      "3     4.641834\n",
      "4     4.701835\n",
      "5     4.942529\n",
      "6     4.942529\n",
      "7     5.002875\n",
      "8     5.063291\n",
      "9     5.002875\n",
      "10    5.305652\n",
      "11    5.732484\n",
      "12    5.488157\n",
      "13    4.402516\n",
      "14    5.123777\n",
      "15    5.002875\n",
      "16    5.123777\n",
      "17    4.822044\n",
      "18    4.283267\n",
      "19    4.822044\n",
      "20    4.942529\n",
      "21    4.882252\n",
      "22    4.882252\n",
      "23    4.822044\n",
      "Name: pm2.5, dtype: float64\n"
     ]
    }
   ],
   "source": [
    "def isnullsum(df):\n",
    "    return df.isnull().sum()\n",
    "print(\"1-----\")\n",
    "print(\"% NaN datapoints per year:\",(df.groupby(df.index.year)[\"pm2.5\"].apply(isnullsum)/df.groupby(df.index.year)[\"pm2.5\"].count())*100.0)\n",
    "\n",
    "print(\"2--------------------------------\")\n",
    "\n",
    "\n",
    "print(\"% NaN datapoints per month:\",(df.groupby(df.index.month)[\"pm2.5\"].apply(isnullsum)/df.groupby(df.index.month)[\"pm2.5\"].count())*100.0)\n",
    "\n",
    "print(\"3--------------------------------\")\n",
    "\n",
    "print(\"% NaN datapoints per dayofweek:\",(df.groupby(df.index.dayofweek)[\"pm2.5\"].apply(isnullsum)/df.groupby(df.index.dayofweek)[\"pm2.5\"].count())*100.0)\n",
    "\n",
    "print(\"4--------------------------------\")\n",
    "print(\"% NaN datapoints per hour:\",(df.groupby(df.index.hour)[\"pm2.5\"].apply(isnullsum)/df.groupby(df.index.hour)[\"pm2.5\"].count())*100.0)\n"
   ]
  },
  {
   "cell_type": "markdown",
   "metadata": {
    "id": "LrIo9nUVBRdn"
   },
   "source": [
    "After examining the NaN values in pm2.5, we see no obvious temporal pattern. This is cause for worry, since by simply dropping the rows with NaN values, we can destroy the temporal coherence of the data, hence **data imputation is desirable.**\n",
    "\n",
    "The autocorrelation charts below imply, that it is not unreasonable to take the previous value to fill NaN-s (high autocorrelation with the previous timestep)."
   ]
  },
  {
   "cell_type": "code",
   "execution_count": 11,
   "metadata": {
    "colab": {
     "base_uri": "https://localhost:8080/"
    },
    "id": "UNES5FZ2BRdo",
    "outputId": "bfc9d485-7450-42db-ddd8-f35061b1e210"
   },
   "outputs": [
    {
     "name": "stdout",
     "output_type": "stream",
     "text": [
      "year          0\n",
      "month         0\n",
      "day           0\n",
      "hour          0\n",
      "pm2.5        24\n",
      "DEWP          0\n",
      "TEMP          0\n",
      "PRES          0\n",
      "cbwd          0\n",
      "Iws           0\n",
      "Is            0\n",
      "Ir            0\n",
      "dayofweek     0\n",
      "dtype: int64\n",
      "year         0\n",
      "month        0\n",
      "day          0\n",
      "hour         0\n",
      "pm2.5        0\n",
      "DEWP         0\n",
      "TEMP         0\n",
      "PRES         0\n",
      "cbwd         0\n",
      "Iws          0\n",
      "Is           0\n",
      "Ir           0\n",
      "dayofweek    0\n",
      "dtype: int64\n"
     ]
    }
   ],
   "source": [
    "\n",
    "df.fillna(method='ffill', inplace=True)\n",
    "\n",
    "print(df.isnull().sum())\n",
    "\n",
    "df.dropna(inplace=True)\n",
    "\n",
    "print(df.isnull().sum())\n"
   ]
  },
  {
   "cell_type": "markdown",
   "metadata": {
    "id": "eKVQ5VyZBRdo"
   },
   "source": [
    "# Examining autocorrelations"
   ]
  },
  {
   "cell_type": "code",
   "execution_count": 12,
   "metadata": {
    "colab": {
     "base_uri": "https://localhost:8080/",
     "height": 1000
    },
    "id": "CDj4p1eYBRdo",
    "outputId": "d5080bd7-c126-46c5-dc5e-9932883dfe05",
    "scrolled": false
   },
   "outputs": [
    {
     "data": {
      "text/plain": [
       "<Figure size 432x288 with 0 Axes>"
      ]
     },
     "metadata": {},
     "output_type": "display_data"
    },
    {
     "data": {
      "image/png": "[encoded data removed]",
      "text/plain": [
       "<Figure size 432x288 with 1 Axes>"
      ]
     },
     "metadata": {
      "needs_background": "light"
     },
     "output_type": "display_data"
    },
    {
     "data": {
      "text/plain": [
       "<Figure size 432x288 with 0 Axes>"
      ]
     },
     "metadata": {},
     "output_type": "display_data"
    },
    {
     "data": {
      "image/png": "[encoded data removed]",
      "text/plain": [
       "<Figure size 432x288 with 1 Axes>"
      ]
     },
     "metadata": {
      "needs_background": "light"
     },
     "output_type": "display_data"
    },
    {
     "data": {
      "text/plain": [
       "<Figure size 432x288 with 0 Axes>"
      ]
     },
     "metadata": {},
     "output_type": "display_data"
    },
    {
     "data": {
      "image/png": "[encoded data removed]",
      "text/plain": [
       "<Figure size 432x288 with 1 Axes>"
      ]
     },
     "metadata": {
      "needs_background": "light"
     },
     "output_type": "display_data"
    },
    {
     "data": {
      "text/plain": [
       "<Figure size 432x288 with 0 Axes>"
      ]
     },
     "metadata": {},
     "output_type": "display_data"
    },
    {
     "data": {
      "image/png": "[encoded data removed]",
      "text/plain": [
       "<Figure size 432x288 with 1 Axes>"
      ]
     },
     "metadata": {
      "needs_background": "light"
     },
     "output_type": "display_data"
    },
    {
     "data": {
      "text/plain": [
       "<Figure size 432x288 with 0 Axes>"
      ]
     },
     "metadata": {},
     "output_type": "display_data"
    },
    {
     "data": {
      "image/png": "[encoded data removed]",
      "text/plain": [
       "<Figure size 432x288 with 1 Axes>"
      ]
     },
     "metadata": {
      "needs_background": "light"
     },
     "output_type": "display_data"
    },
    {
     "data": {
      "text/plain": [
       "<Figure size 432x288 with 0 Axes>"
      ]
     },
     "metadata": {},
     "output_type": "display_data"
    },
    {
     "data": {
      "image/png": "[encoded data removed]",
      "text/plain": [
       "<Figure size 432x288 with 1 Axes>"
      ]
     },
     "metadata": {
      "needs_background": "light"
     },
     "output_type": "display_data"
    },
    {
     "data": {
      "text/plain": [
       "<Figure size 432x288 with 0 Axes>"
      ]
     },
     "metadata": {},
     "output_type": "display_data"
    },
    {
     "data": {
      "image/png": "[encoded data removed]",
      "text/plain": [
       "<Figure size 432x288 with 1 Axes>"
      ]
     },
     "metadata": {
      "needs_background": "light"
     },
     "output_type": "display_data"
    }
   ],
   "source": [
    "from statsmodels.graphics.tsaplots import plot_pacf\n",
    "\n",
    "#columns = [] #use this for speedup\n",
    "columns = [\"pm2.5\",\"DEWP\",\"TEMP\",\"PRES\",\"Iws\",\"Is\",\"Ir\"]\n",
    "\n",
    "for col in columns:\n",
    "    plt.figure()\n",
    "    plot_pacf(df[col].dropna(), lags=200, zero=False)\n",
    "    \n",
    "plt.show()\n"
   ]
  },
  {
   "cell_type": "markdown",
   "metadata": {
    "id": "m1JMumdXBRdo"
   },
   "source": [
    "## What do we see?\n",
    "\n",
    "Well, the fact, that we don't see.\n",
    "\n",
    "Or more precisely: smog (and weather) is slow to move, it is extremely strongly autocorrelated with itself one-two hours before, so in order to at least be able to see some autocorrelation structure beyond this, we need to filter out the first some hours from our autocorrelation analysis.\n",
    "\n",
    "(By the way, that's why we don't stick to the prediction of the next hour as in the original \"inspiration\" blogpost. Would not be too relevant...)"
   ]
  },
  {
   "cell_type": "code",
   "execution_count": 13,
   "metadata": {
    "collapsed": true,
    "id": "_0ZnNIoOBRdo"
   },
   "outputs": [],
   "source": [
    "from statsmodels.graphics.tsaplots import _prepare_data_corr_plot, _plot_corr\n",
    "import statsmodels.graphics.utils as utils\n",
    "from statsmodels.tsa.stattools import pacf\n",
    "\n",
    "def plot_pacf_drop(x, ax=None, lags=None, alpha=.05, method='ywunbiased',\n",
    "              use_vlines=True, title='Partial Autocorrelation', zero=True,\n",
    "              vlines_kwargs=None, drop_no=0, **kwargs):\n",
    "    \n",
    "    lags_orig=lags\n",
    "    fig, ax = utils.create_mpl_ax(ax)\n",
    "    vlines_kwargs = {} if vlines_kwargs is None else vlines_kwargs\n",
    "    lags, nlags, irregular = _prepare_data_corr_plot(x, lags, zero)\n",
    "    confint = None\n",
    "    if alpha is None:\n",
    "        acf_x = pacf(x, nlags=nlags, alpha=alpha, method=method)\n",
    "    else:\n",
    "        acf_x, confint = pacf(x, nlags=nlags, alpha=alpha, method=method)\n",
    "\n",
    "    if drop_no:\n",
    "        acf_x = acf_x[drop_no+1:]\n",
    "        confint = confint[drop_no+1:]\n",
    "        lags, nlags, irregular = _prepare_data_corr_plot(x, lags_orig-drop_no, zero)\n",
    "        \n",
    "    _plot_corr(ax, title, acf_x, confint, lags, False, use_vlines,\n",
    "               vlines_kwargs, **kwargs)\n",
    "\n",
    "    return fig"
   ]
  },
  {
   "cell_type": "code",
   "execution_count": 14,
   "metadata": {
    "colab": {
     "base_uri": "https://localhost:8080/",
     "height": 1000
    },
    "id": "pW2RlxiiBRdp",
    "outputId": "7617bedf-ae78-473c-e3a9-ee84cd8ebf88",
    "scrolled": false
   },
   "outputs": [
    {
     "data": {
      "text/plain": [
       "<Figure size 432x288 with 0 Axes>"
      ]
     },
     "metadata": {},
     "output_type": "display_data"
    },
    {
     "data": {
      "image/png": "[encoded data removed]",
      "text/plain": [
       "<Figure size 432x288 with 1 Axes>"
      ]
     },
     "metadata": {
      "needs_background": "light"
     },
     "output_type": "display_data"
    },
    {
     "data": {
      "text/plain": [
       "<Figure size 432x288 with 0 Axes>"
      ]
     },
     "metadata": {},
     "output_type": "display_data"
    },
    {
     "data": {
      "image/png": "[encoded data removed]",
      "text/plain": [
       "<Figure size 432x288 with 1 Axes>"
      ]
     },
     "metadata": {
      "needs_background": "light"
     },
     "output_type": "display_data"
    },
    {
     "data": {
      "text/plain": [
       "<Figure size 432x288 with 0 Axes>"
      ]
     },
     "metadata": {},
     "output_type": "display_data"
    },
    {
     "data": {
      "image/png": "[encoded data removed]",
      "text/plain": [
       "<Figure size 432x288 with 1 Axes>"
      ]
     },
     "metadata": {
      "needs_background": "light"
     },
     "output_type": "display_data"
    },
    {
     "data": {
      "text/plain": [
       "<Figure size 432x288 with 0 Axes>"
      ]
     },
     "metadata": {},
     "output_type": "display_data"
    },
    {
     "data": {
      "image/png": "[encoded data removed]",
      "text/plain": [
       "<Figure size 432x288 with 1 Axes>"
      ]
     },
     "metadata": {
      "needs_background": "light"
     },
     "output_type": "display_data"
    },
    {
     "data": {
      "text/plain": [
       "<Figure size 432x288 with 0 Axes>"
      ]
     },
     "metadata": {},
     "output_type": "display_data"
    },
    {
     "data": {
      "image/png": "[encoded data removed]",
      "text/plain": [
       "<Figure size 432x288 with 1 Axes>"
      ]
     },
     "metadata": {
      "needs_background": "light"
     },
     "output_type": "display_data"
    },
    {
     "data": {
      "text/plain": [
       "<Figure size 432x288 with 0 Axes>"
      ]
     },
     "metadata": {},
     "output_type": "display_data"
    },
    {
     "data": {
      "image/png": "[encoded data removed]",
      "text/plain": [
       "<Figure size 432x288 with 1 Axes>"
      ]
     },
     "metadata": {
      "needs_background": "light"
     },
     "output_type": "display_data"
    },
    {
     "data": {
      "text/plain": [
       "<Figure size 432x288 with 0 Axes>"
      ]
     },
     "metadata": {},
     "output_type": "display_data"
    },
    {
     "data": {
      "image/png": "[encoded data removed]",
      "text/plain": [
       "<Figure size 432x288 with 1 Axes>"
      ]
     },
     "metadata": {
      "needs_background": "light"
     },
     "output_type": "display_data"
    }
   ],
   "source": [
    "import matplotlib.pyplot as plt\n",
    "\n",
    "#columns = [] #use this for speedup\n",
    "columns = [\"pm2.5\",\"DEWP\",\"TEMP\",\"PRES\",\"Iws\",\"Is\",\"Ir\"]\n",
    "\n",
    "for col in columns:\n",
    "    plt.figure()\n",
    "    plot_pacf_drop(df[col].dropna(), lags=200, drop_no=3, zero=False)\n",
    "    \n",
    "plt.show()\n"
   ]
  },
  {
   "cell_type": "markdown",
   "metadata": {
    "id": "wTt6ciD2BRdp"
   },
   "source": [
    "Studying even the filtered charts leaves us in doubt about the possible window for modeling (in case of the classical models), so we will keep 100 as the modeling window (nearly two weeks). This is a parameter that is worth empirically studying later on.\n",
    "\n",
    "It is worth mentioning, that the `pacf` charts would definitely change drastically if we would use some differencing. Since down below we decide not to, we keep it as it is."
   ]
  },
  {
   "cell_type": "markdown",
   "metadata": {
    "id": "KF5MyW2ABRdp"
   },
   "source": [
    "## Seasonal decomposition and the question of trends"
   ]
  },
  {
   "cell_type": "code",
   "execution_count": 15,
   "metadata": {
    "colab": {
     "base_uri": "https://localhost:8080/",
     "height": 297
    },
    "id": "lqIW6G81BRdp",
    "outputId": "8a9c7eb0-3334-47f7-90f7-46f7e7a82f84"
   },
   "outputs": [
    {
     "data": {
      "image/png": "[encoded data removed]",
      "text/plain": [
       "<Figure size 432x288 with 4 Axes>"
      ]
     },
     "metadata": {
      "needs_background": "light"
     },
     "output_type": "display_data"
    }
   ],
   "source": [
    "from statsmodels.tsa.seasonal import seasonal_decompose\n",
    "from statsmodels.tsa.tsatools import freq_to_period\n",
    "import matplotlib.pyplot as plt\n",
    "\n",
    "analysis = seasonal_decompose(df[\"pm2.5\"], freq=freq_to_period(df.index.inferred_freq))\n",
    "\n",
    "analysis.plot()\n",
    "plt.show()"
   ]
  },
  {
   "cell_type": "markdown",
   "metadata": {
    "id": "PpLn_fWVBRdq"
   },
   "source": [
    "Well, the default setting (infer periods - hourly) is rather uninformative, so it is maybe worth using some domain knowledge here, and use yearly frequency."
   ]
  },
  {
   "cell_type": "code",
   "execution_count": 16,
   "metadata": {
    "colab": {
     "base_uri": "https://localhost:8080/",
     "height": 297
    },
    "id": "RUvGDAx-BRdq",
    "outputId": "91d9ac80-6486-49b2-fbb6-5471457bf71c"
   },
   "outputs": [
    {
     "data": {
      "image/png": "[encoded data removed]",
      "text/plain": [
       "<Figure size 432x288 with 4 Axes>"
      ]
     },
     "metadata": {
      "needs_background": "light"
     },
     "output_type": "display_data"
    }
   ],
   "source": [
    "analysis = seasonal_decompose(df[\"pm2.5\"], freq=24*365)\n",
    "\n",
    "analysis.plot()\n",
    "plt.show()"
   ]
  },
  {
   "cell_type": "markdown",
   "metadata": {
    "id": "N2VG5C0MBRdq"
   },
   "source": [
    "We do get the first impression, that there is no overarching simple trend, as well as there are non-trivial seasonal patterns. At a later stage we should investigate differencing regimes, but for now, we leave the data as is."
   ]
  },
  {
   "cell_type": "markdown",
   "metadata": {
    "id": "ePgF8T4IBRdq"
   },
   "source": [
    "# Train, valid, test split - before normalization\n",
    "\n",
    "Contamination by the normalization values is a distant possibility, but let's stick to paranoid practices."
   ]
  },
  {
   "cell_type": "code",
   "execution_count": 17,
   "metadata": {
    "collapsed": true,
    "id": "23zyp8mFBRdq"
   },
   "outputs": [],
   "source": [
    "VALID_AND_TEST_SIZE=0.1"
   ]
  },
  {
   "cell_type": "code",
   "execution_count": 18,
   "metadata": {
    "collapsed": true,
    "id": "Vm5h0oJHBRdq"
   },
   "outputs": [],
   "source": [
    "from sklearn.model_selection import train_test_split\n",
    "\n",
    "X_train, X_else, y_train, y_else = train_test_split(df, df[\"pm2.5\"], test_size=VALID_AND_TEST_SIZE*2, shuffle=False)\n",
    "X_valid, X_test, y_valid, y_test = train_test_split(X_else, y_else, test_size=0.5, shuffle=False)\n"
   ]
  },
  {
   "cell_type": "markdown",
   "metadata": {
    "id": "WLXfgtpXBRdq"
   },
   "source": [
    "We could have used `temporal_split` from `seglearn`, but that would have cast everything to numpy, so it was more convenient this way for now. Using `seglearn` is encouraged - if we would like to go into classical modeling."
   ]
  },
  {
   "cell_type": "markdown",
   "metadata": {
    "id": "UJhl0tW-BRdr"
   },
   "source": [
    "# Data normalization\n",
    "\n",
    "Our default assumption is to use Scikit's minmax scaler for easier learning by neural models."
   ]
  },
  {
   "cell_type": "markdown",
   "metadata": {
    "id": "KJnlkPlJBRdr"
   },
   "source": [
    "But there are some exceptions:\n",
    "\n",
    "## How to normalize dates?\n",
    "\n",
    "For the year it is more tricky, it is basically an ordinal.\n",
    "Subtracting the first year is nice, but how to handle the normalization to 0,1?\n",
    "\n",
    "We could use 2018 as a max, but **WE WOULD HAVE TO WRITE A BIG CAVEAT MESSAGE FOR DEPLOY PEOPLE!**\n",
    "\n",
    "So it should be something like  `(df.year - (df.year.min())-1)/((df.year.max()-df.year.min())*2)` (-1 is for avoiding zero, making the life of the network more easy...)\n",
    "\n",
    "For now we stick to the minmax scaler (living risky... :-)\n",
    "\n",
    "For month, day, hour default assumption is, scikit's minmax scaler could work, but we will choose a more elaborate solution from [here](https://ianlondon.github.io/blog/encoding-cyclical-features-24hour-time/). This capitalizes on the circular nature of these quasi ordinals.\n"
   ]
  },
  {
   "cell_type": "code",
   "execution_count": 19,
   "metadata": {
    "collapsed": true,
    "id": "Exld4vinBRdr"
   },
   "outputs": [],
   "source": [
    "from sklearn.preprocessing import MinMaxScaler\n",
    "import warnings\n",
    "from sklearn.exceptions import DataConversionWarning\n",
    "warnings.filterwarnings(action='ignore', category=DataConversionWarning)\n",
    "# I literally hate when a standard Scikit function throws big bunches of warnings \n",
    "# - though suppressing them is a dangerous practice. Hence this comment. \n",
    "\n",
    "def minmax_scale(df_x,series_y, normalizers=None):\n",
    "    features_to_minmax = [\"year\",\"pm2.5\",\"DEWP\",\"TEMP\",\"PRES\",\"Iws\",\"Is\",\"Ir\"]\n",
    "\n",
    "    if not normalizers:\n",
    "        normalizers = {}\n",
    "\n",
    "    for feat in features_to_minmax:\n",
    "        if feat not in normalizers:\n",
    "            normalizers[feat] = MinMaxScaler()\n",
    "            normalizers[feat].fit(df_x[feat].values.reshape(-1, 1))\n",
    "        \n",
    "        df_x[feat] = normalizers[feat].transform(df_x[feat].values.reshape(-1, 1))\n",
    "\n",
    "    series_y=normalizers[\"pm2.5\"].transform(series_y.values.reshape(-1, 1))\n",
    "\n",
    "    return df_x, series_y, normalizers"
   ]
  },
  {
   "cell_type": "code",
   "execution_count": 20,
   "metadata": {
    "collapsed": true,
    "id": "KVW4xHGgBRdr"
   },
   "outputs": [],
   "source": [
    "\n",
    "X_train_norm, y_train_norm, normalizers = minmax_scale(X_train, y_train)\n",
    "X_valid_norm, y_valid_norm, _ = minmax_scale(X_valid, y_valid, normalizers=normalizers)\n",
    "X_test_norm, y_test_norm, _ = minmax_scale(X_test, y_test, normalizers=normalizers)\n"
   ]
  },
  {
   "cell_type": "markdown",
   "metadata": {
    "id": "jtMWyg9HBRdr"
   },
   "source": [
    "## Encoding of ordinals\n",
    "\n",
    "The encoding of `cbwd` is interesting, since it is an ordinal again, or better to say not even that, it has a nice circular topology, so we will use the same sin-cos solution.\n",
    "\n",
    "Problem is, that there is a valid \"zero\" value, marked \"cv\" in there. We are tempted to replace that with 0."
   ]
  },
  {
   "cell_type": "code",
   "execution_count": 21,
   "metadata": {
    "collapsed": true,
    "id": "_xG1ZcKHBRdr"
   },
   "outputs": [],
   "source": [
    "\n",
    "def encode_cyclicals(df_x):\n",
    "    #\"month\",\"day\",\"hour\", \"cdbw\", \"dayofweek\"\n",
    "    \n",
    "    DIRECTIONS = {\"N\":1.0,\"NE\":2.0, \"E\":3.0, \"SE\":4.0, \"S\":5.0, \"SW\":6.0, \"W\":7.0, \"NW\":8.0, \"cv\":np.nan}\n",
    "\n",
    "    df_x['month_sin'] = np.sin(2*np.pi*df_x.month/12)\n",
    "    df_x['month_cos'] = np.cos(2*np.pi*df_x.month/12)\n",
    "    df_x.drop('month', axis=1, inplace=True)\n",
    "    \n",
    "    df_x['day_sin'] = np.sin(2*np.pi*df_x.day/31)\n",
    "    df_x['day_cos'] = np.cos(2*np.pi*df_x.day/31)\n",
    "    df_x.drop('day', axis=1, inplace=True)\n",
    "\n",
    "    df_x['dayofweek_sin'] = np.sin(2*np.pi*df_x.dayofweek/7)\n",
    "    df_x['dayofweek_cos'] = np.cos(2*np.pi*df_x.dayofweek/7)\n",
    "    df_x.drop('dayofweek', axis=1, inplace=True)\n",
    "    \n",
    "    df_x['hour_sin'] = np.sin(2*np.pi*df_x.hour/24)\n",
    "    df_x['hour_cos'] = np.cos(2*np.pi*df_x.hour/24)\n",
    "    df_x.drop('hour', axis=1, inplace=True)\n",
    "    \n",
    "    df_x.replace({'cbwd': DIRECTIONS}, inplace=True)\n",
    "    df_x['cbwd'] = df_x['cbwd'].astype(np.float64) \n",
    "\n",
    "    df_x['cbwd_sin'] = np.sin(2.0*np.pi*df_x.cbwd/8.0)\n",
    "    df_x['cbwd_sin'].replace(np.nan, 0.0, inplace=True) #Let's handle the case with no wind specially\n",
    "    df_x['cbwd_cos'] = np.cos(2.0*np.pi*df_x.cbwd/8.0)\n",
    "    df_x['cbwd_cos'].replace(np.nan, 0.0, inplace=True) #Let's handle the case with no wind specially\n",
    "    df_x.drop('cbwd', axis=1, inplace=True)\n",
    "    \n",
    "    return df_x"
   ]
  },
  {
   "cell_type": "code",
   "execution_count": 22,
   "metadata": {
    "collapsed": true,
    "id": "S_4goHjgBRds"
   },
   "outputs": [],
   "source": [
    "X_train_norm = encode_cyclicals(X_train_norm)\n",
    "X_valid_norm = encode_cyclicals(X_valid_norm)\n",
    "X_test_norm = encode_cyclicals(X_test_norm)"
   ]
  },
  {
   "cell_type": "code",
   "execution_count": 23,
   "metadata": {
    "colab": {
     "base_uri": "https://localhost:8080/",
     "height": 866
    },
    "id": "26ntpb2DBRds",
    "outputId": "43e54c88-ae5a-4d4c-ff23-374dc3d6de3b"
   },
   "outputs": [
    {
     "data": {
      "text/html": [
       "\n",
       "  <div id=\"df-e1455e67-da01-48ff-be1c-912ca1e32506\">\n",
       "    <div class=\"colab-df-container\">\n",
       "      <div>\n",
       "<style scoped>\n",
       "    .dataframe tbody tr th:only-of-type {\n",
       "        vertical-align: middle;\n",
       "    }\n",
       "\n",
       "    .dataframe tbody tr th {\n",
       "        vertical-align: top;\n",
       "    }\n",
       "\n",
       "    .dataframe thead th {\n",
       "        text-align: right;\n",
       "    }\n",
       "</style>\n",
       "<table border=\"1\" class=\"dataframe\">\n",
       "  <thead>\n",
       "    <tr style=\"text-align: right;\">\n",
       "      <th></th>\n",
       "      <th>year</th>\n",
       "      <th>pm2.5</th>\n",
       "      <th>DEWP</th>\n",
       "      <th>TEMP</th>\n",
       "      <th>PRES</th>\n",
       "      <th>Iws</th>\n",
       "      <th>Is</th>\n",
       "      <th>Ir</th>\n",
       "      <th>month_sin</th>\n",
       "      <th>month_cos</th>\n",
       "      <th>day_sin</th>\n",
       "      <th>day_cos</th>\n",
       "      <th>dayofweek_sin</th>\n",
       "      <th>dayofweek_cos</th>\n",
       "      <th>hour_sin</th>\n",
       "      <th>hour_cos</th>\n",
       "      <th>cbwd_sin</th>\n",
       "      <th>cbwd_cos</th>\n",
       "    </tr>\n",
       "    <tr>\n",
       "      <th>date</th>\n",
       "      <th></th>\n",
       "      <th></th>\n",
       "      <th></th>\n",
       "      <th></th>\n",
       "      <th></th>\n",
       "      <th></th>\n",
       "      <th></th>\n",
       "      <th></th>\n",
       "      <th></th>\n",
       "      <th></th>\n",
       "      <th></th>\n",
       "      <th></th>\n",
       "      <th></th>\n",
       "      <th></th>\n",
       "      <th></th>\n",
       "      <th></th>\n",
       "      <th></th>\n",
       "      <th></th>\n",
       "    </tr>\n",
       "  </thead>\n",
       "  <tbody>\n",
       "    <tr>\n",
       "      <th>2010-01-02 00:00:00</th>\n",
       "      <td>0.0</td>\n",
       "      <td>0.129779</td>\n",
       "      <td>0.278689</td>\n",
       "      <td>0.250000</td>\n",
       "      <td>0.527273</td>\n",
       "      <td>0.002290</td>\n",
       "      <td>0.000000</td>\n",
       "      <td>0.0</td>\n",
       "      <td>5.000000e-01</td>\n",
       "      <td>0.866025</td>\n",
       "      <td>3.943559e-01</td>\n",
       "      <td>0.918958</td>\n",
       "      <td>-0.781831</td>\n",
       "      <td>0.623490</td>\n",
       "      <td>0.000000</td>\n",
       "      <td>1.000000</td>\n",
       "      <td>1.224647e-16</td>\n",
       "      <td>-1.0</td>\n",
       "    </tr>\n",
       "    <tr>\n",
       "      <th>2010-01-02 01:00:00</th>\n",
       "      <td>0.0</td>\n",
       "      <td>0.148893</td>\n",
       "      <td>0.295082</td>\n",
       "      <td>0.250000</td>\n",
       "      <td>0.527273</td>\n",
       "      <td>0.003811</td>\n",
       "      <td>0.000000</td>\n",
       "      <td>0.0</td>\n",
       "      <td>5.000000e-01</td>\n",
       "      <td>0.866025</td>\n",
       "      <td>3.943559e-01</td>\n",
       "      <td>0.918958</td>\n",
       "      <td>-0.781831</td>\n",
       "      <td>0.623490</td>\n",
       "      <td>0.258819</td>\n",
       "      <td>0.965926</td>\n",
       "      <td>1.224647e-16</td>\n",
       "      <td>-1.0</td>\n",
       "    </tr>\n",
       "    <tr>\n",
       "      <th>2010-01-02 02:00:00</th>\n",
       "      <td>0.0</td>\n",
       "      <td>0.159960</td>\n",
       "      <td>0.360656</td>\n",
       "      <td>0.233333</td>\n",
       "      <td>0.545455</td>\n",
       "      <td>0.005332</td>\n",
       "      <td>0.000000</td>\n",
       "      <td>0.0</td>\n",
       "      <td>5.000000e-01</td>\n",
       "      <td>0.866025</td>\n",
       "      <td>3.943559e-01</td>\n",
       "      <td>0.918958</td>\n",
       "      <td>-0.781831</td>\n",
       "      <td>0.623490</td>\n",
       "      <td>0.500000</td>\n",
       "      <td>0.866025</td>\n",
       "      <td>1.224647e-16</td>\n",
       "      <td>-1.0</td>\n",
       "    </tr>\n",
       "    <tr>\n",
       "      <th>2010-01-02 03:00:00</th>\n",
       "      <td>0.0</td>\n",
       "      <td>0.182093</td>\n",
       "      <td>0.426230</td>\n",
       "      <td>0.233333</td>\n",
       "      <td>0.563636</td>\n",
       "      <td>0.008391</td>\n",
       "      <td>0.037037</td>\n",
       "      <td>0.0</td>\n",
       "      <td>5.000000e-01</td>\n",
       "      <td>0.866025</td>\n",
       "      <td>3.943559e-01</td>\n",
       "      <td>0.918958</td>\n",
       "      <td>-0.781831</td>\n",
       "      <td>0.623490</td>\n",
       "      <td>0.707107</td>\n",
       "      <td>0.707107</td>\n",
       "      <td>1.224647e-16</td>\n",
       "      <td>-1.0</td>\n",
       "    </tr>\n",
       "    <tr>\n",
       "      <th>2010-01-02 04:00:00</th>\n",
       "      <td>0.0</td>\n",
       "      <td>0.138833</td>\n",
       "      <td>0.426230</td>\n",
       "      <td>0.233333</td>\n",
       "      <td>0.563636</td>\n",
       "      <td>0.009912</td>\n",
       "      <td>0.074074</td>\n",
       "      <td>0.0</td>\n",
       "      <td>5.000000e-01</td>\n",
       "      <td>0.866025</td>\n",
       "      <td>3.943559e-01</td>\n",
       "      <td>0.918958</td>\n",
       "      <td>-0.781831</td>\n",
       "      <td>0.623490</td>\n",
       "      <td>0.866025</td>\n",
       "      <td>0.500000</td>\n",
       "      <td>1.224647e-16</td>\n",
       "      <td>-1.0</td>\n",
       "    </tr>\n",
       "    <tr>\n",
       "      <th>...</th>\n",
       "      <td>...</td>\n",
       "      <td>...</td>\n",
       "      <td>...</td>\n",
       "      <td>...</td>\n",
       "      <td>...</td>\n",
       "      <td>...</td>\n",
       "      <td>...</td>\n",
       "      <td>...</td>\n",
       "      <td>...</td>\n",
       "      <td>...</td>\n",
       "      <td>...</td>\n",
       "      <td>...</td>\n",
       "      <td>...</td>\n",
       "      <td>...</td>\n",
       "      <td>...</td>\n",
       "      <td>...</td>\n",
       "      <td>...</td>\n",
       "      <td>...</td>\n",
       "    </tr>\n",
       "    <tr>\n",
       "      <th>2013-12-31 19:00:00</th>\n",
       "      <td>1.0</td>\n",
       "      <td>0.022133</td>\n",
       "      <td>0.229508</td>\n",
       "      <td>0.433333</td>\n",
       "      <td>0.400000</td>\n",
       "      <td>0.195540</td>\n",
       "      <td>0.000000</td>\n",
       "      <td>0.0</td>\n",
       "      <td>-2.449294e-16</td>\n",
       "      <td>1.000000</td>\n",
       "      <td>-2.449294e-16</td>\n",
       "      <td>1.000000</td>\n",
       "      <td>0.974928</td>\n",
       "      <td>-0.222521</td>\n",
       "      <td>-0.965926</td>\n",
       "      <td>0.258819</td>\n",
       "      <td>-2.449294e-16</td>\n",
       "      <td>1.0</td>\n",
       "    </tr>\n",
       "    <tr>\n",
       "      <th>2013-12-31 20:00:00</th>\n",
       "      <td>1.0</td>\n",
       "      <td>0.018109</td>\n",
       "      <td>0.196721</td>\n",
       "      <td>0.433333</td>\n",
       "      <td>0.418182</td>\n",
       "      <td>0.203948</td>\n",
       "      <td>0.000000</td>\n",
       "      <td>0.0</td>\n",
       "      <td>-2.449294e-16</td>\n",
       "      <td>1.000000</td>\n",
       "      <td>-2.449294e-16</td>\n",
       "      <td>1.000000</td>\n",
       "      <td>0.974928</td>\n",
       "      <td>-0.222521</td>\n",
       "      <td>-0.866025</td>\n",
       "      <td>0.500000</td>\n",
       "      <td>-2.449294e-16</td>\n",
       "      <td>1.0</td>\n",
       "    </tr>\n",
       "    <tr>\n",
       "      <th>2013-12-31 21:00:00</th>\n",
       "      <td>1.0</td>\n",
       "      <td>0.023139</td>\n",
       "      <td>0.196721</td>\n",
       "      <td>0.433333</td>\n",
       "      <td>0.418182</td>\n",
       "      <td>0.213877</td>\n",
       "      <td>0.000000</td>\n",
       "      <td>0.0</td>\n",
       "      <td>-2.449294e-16</td>\n",
       "      <td>1.000000</td>\n",
       "      <td>-2.449294e-16</td>\n",
       "      <td>1.000000</td>\n",
       "      <td>0.974928</td>\n",
       "      <td>-0.222521</td>\n",
       "      <td>-0.707107</td>\n",
       "      <td>0.707107</td>\n",
       "      <td>-2.449294e-16</td>\n",
       "      <td>1.0</td>\n",
       "    </tr>\n",
       "    <tr>\n",
       "      <th>2013-12-31 22:00:00</th>\n",
       "      <td>1.0</td>\n",
       "      <td>0.020121</td>\n",
       "      <td>0.196721</td>\n",
       "      <td>0.416667</td>\n",
       "      <td>0.418182</td>\n",
       "      <td>0.222285</td>\n",
       "      <td>0.000000</td>\n",
       "      <td>0.0</td>\n",
       "      <td>-2.449294e-16</td>\n",
       "      <td>1.000000</td>\n",
       "      <td>-2.449294e-16</td>\n",
       "      <td>1.000000</td>\n",
       "      <td>0.974928</td>\n",
       "      <td>-0.222521</td>\n",
       "      <td>-0.500000</td>\n",
       "      <td>0.866025</td>\n",
       "      <td>-2.449294e-16</td>\n",
       "      <td>1.0</td>\n",
       "    </tr>\n",
       "    <tr>\n",
       "      <th>2013-12-31 23:00:00</th>\n",
       "      <td>1.0</td>\n",
       "      <td>0.023139</td>\n",
       "      <td>0.213115</td>\n",
       "      <td>0.433333</td>\n",
       "      <td>0.418182</td>\n",
       "      <td>0.234504</td>\n",
       "      <td>0.000000</td>\n",
       "      <td>0.0</td>\n",
       "      <td>-2.449294e-16</td>\n",
       "      <td>1.000000</td>\n",
       "      <td>-2.449294e-16</td>\n",
       "      <td>1.000000</td>\n",
       "      <td>0.974928</td>\n",
       "      <td>-0.222521</td>\n",
       "      <td>-0.258819</td>\n",
       "      <td>0.965926</td>\n",
       "      <td>-2.449294e-16</td>\n",
       "      <td>1.0</td>\n",
       "    </tr>\n",
       "  </tbody>\n",
       "</table>\n",
       "<p>35040 rows × 18 columns</p>\n",
       "</div>\n",
       "      <button class=\"colab-df-convert\" onclick=\"convertToInteractive('df-e1455e67-da01-48ff-be1c-912ca1e32506')\"\n",
       "              title=\"Convert this dataframe to an interactive table.\"\n",
       "              style=\"display:none;\">\n",
       "        \n",
       "  <svg xmlns=\"http://www.w3.org/2000/svg\" height=\"24px\"viewBox=\"0 0 24 24\"\n",
       "       width=\"24px\">\n",
       "    <path d=\"M0 0h24v24H0V0z\" fill=\"none\"/>\n",
       "    <path d=\"M18.56 5.44l.94 2.06.94-2.06 2.06-.94-2.06-.94-.94-2.06-.94 2.06-2.06.94zm-11 1L8.5 8.5l.94-2.06 2.06-.94-2.06-.94L8.5 2.5l-.94 2.06-2.06.94zm10 10l.94 2.06.94-2.06 2.06-.94-2.06-.94-.94-2.06-.94 2.06-2.06.94z\"/><path d=\"M17.41 7.96l-1.37-1.37c-.4-.4-.92-.59-1.43-.59-.52 0-1.04.2-1.43.59L10.3 9.45l-7.72 7.72c-.78.78-.78 2.05 0 2.83L4 21.41c.39.39.9.59 1.41.59.51 0 1.02-.2 1.41-.59l7.78-7.78 2.81-2.81c.8-.78.8-2.07 0-2.86zM5.41 20L4 18.59l7.72-7.72 1.47 1.35L5.41 20z\"/>\n",
       "  </svg>\n",
       "      </button>\n",
       "      \n",
       "  <style>\n",
       "    .colab-df-container {\n",
       "      display:flex;\n",
       "      flex-wrap:wrap;\n",
       "      gap: 12px;\n",
       "    }\n",
       "\n",
       "    .colab-df-convert {\n",
       "      background-color: #E8F0FE;\n",
       "      border: none;\n",
       "      border-radius: 50%;\n",
       "      cursor: pointer;\n",
       "      display: none;\n",
       "      fill: #1967D2;\n",
       "      height: 32px;\n",
       "      padding: 0 0 0 0;\n",
       "      width: 32px;\n",
       "    }\n",
       "\n",
       "    .colab-df-convert:hover {\n",
       "      background-color: #E2EBFA;\n",
       "      box-shadow: 0px 1px 2px rgba(60, 64, 67, 0.3), 0px 1px 3px 1px rgba(60, 64, 67, 0.15);\n",
       "      fill: #174EA6;\n",
       "    }\n",
       "\n",
       "    [theme=dark] .colab-df-convert {\n",
       "      background-color: #3B4455;\n",
       "      fill: #D2E3FC;\n",
       "    }\n",
       "\n",
       "    [theme=dark] .colab-df-convert:hover {\n",
       "      background-color: #434B5C;\n",
       "      box-shadow: 0px 1px 3px 1px rgba(0, 0, 0, 0.15);\n",
       "      filter: drop-shadow(0px 1px 2px rgba(0, 0, 0, 0.3));\n",
       "      fill: #FFFFFF;\n",
       "    }\n",
       "  </style>\n",
       "\n",
       "      <script>\n",
       "        const buttonEl =\n",
       "          document.querySelector('#df-e1455e67-da01-48ff-be1c-912ca1e32506 button.colab-df-convert');\n",
       "        buttonEl.style.display =\n",
       "          google.colab.kernel.accessAllowed ? 'block' : 'none';\n",
       "\n",
       "        async function convertToInteractive(key) {\n",
       "          const element = document.querySelector('#df-e1455e67-da01-48ff-be1c-912ca1e32506');\n",
       "          const dataTable =\n",
       "            await google.colab.kernel.invokeFunction('convertToInteractive',\n",
       "                                                     [key], {});\n",
       "          if (!dataTable) return;\n",
       "\n",
       "          const docLinkHtml = 'Like what you see? Visit the ' +\n",
       "            '<a target=\"_blank\" href=https://colab.research.google.com/notebooks/data_table.ipynb>data table notebook</a>'\n",
       "            + ' to learn more about interactive tables.';\n",
       "          element.innerHTML = '';\n",
       "          dataTable['output_type'] = 'display_data';\n",
       "          await google.colab.output.renderOutput(dataTable, element);\n",
       "          const docLink = document.createElement('div');\n",
       "          docLink.innerHTML = docLinkHtml;\n",
       "          element.appendChild(docLink);\n",
       "        }\n",
       "      </script>\n",
       "    </div>\n",
       "  </div>\n",
       "  "
      ],
      "text/plain": [
       "                     year     pm2.5      DEWP      TEMP      PRES       Iws  \\\n",
       "date                                                                          \n",
       "2010-01-02 00:00:00   0.0  0.129779  0.278689  0.250000  0.527273  0.002290   \n",
       "2010-01-02 01:00:00   0.0  0.148893  0.295082  0.250000  0.527273  0.003811   \n",
       "2010-01-02 02:00:00   0.0  0.159960  0.360656  0.233333  0.545455  0.005332   \n",
       "2010-01-02 03:00:00   0.0  0.182093  0.426230  0.233333  0.563636  0.008391   \n",
       "2010-01-02 04:00:00   0.0  0.138833  0.426230  0.233333  0.563636  0.009912   \n",
       "...                   ...       ...       ...       ...       ...       ...   \n",
       "2013-12-31 19:00:00   1.0  0.022133  0.229508  0.433333  0.400000  0.195540   \n",
       "2013-12-31 20:00:00   1.0  0.018109  0.196721  0.433333  0.418182  0.203948   \n",
       "2013-12-31 21:00:00   1.0  0.023139  0.196721  0.433333  0.418182  0.213877   \n",
       "2013-12-31 22:00:00   1.0  0.020121  0.196721  0.416667  0.418182  0.222285   \n",
       "2013-12-31 23:00:00   1.0  0.023139  0.213115  0.433333  0.418182  0.234504   \n",
       "\n",
       "                           Is   Ir     month_sin  month_cos       day_sin  \\\n",
       "date                                                                        \n",
       "2010-01-02 00:00:00  0.000000  0.0  5.000000e-01   0.866025  3.943559e-01   \n",
       "2010-01-02 01:00:00  0.000000  0.0  5.000000e-01   0.866025  3.943559e-01   \n",
       "2010-01-02 02:00:00  0.000000  0.0  5.000000e-01   0.866025  3.943559e-01   \n",
       "2010-01-02 03:00:00  0.037037  0.0  5.000000e-01   0.866025  3.943559e-01   \n",
       "2010-01-02 04:00:00  0.074074  0.0  5.000000e-01   0.866025  3.943559e-01   \n",
       "...                       ...  ...           ...        ...           ...   \n",
       "2013-12-31 19:00:00  0.000000  0.0 -2.449294e-16   1.000000 -2.449294e-16   \n",
       "2013-12-31 20:00:00  0.000000  0.0 -2.449294e-16   1.000000 -2.449294e-16   \n",
       "2013-12-31 21:00:00  0.000000  0.0 -2.449294e-16   1.000000 -2.449294e-16   \n",
       "2013-12-31 22:00:00  0.000000  0.0 -2.449294e-16   1.000000 -2.449294e-16   \n",
       "2013-12-31 23:00:00  0.000000  0.0 -2.449294e-16   1.000000 -2.449294e-16   \n",
       "\n",
       "                      day_cos  dayofweek_sin  dayofweek_cos  hour_sin  \\\n",
       "date                                                                    \n",
       "2010-01-02 00:00:00  0.918958      -0.781831       0.623490  0.000000   \n",
       "2010-01-02 01:00:00  0.918958      -0.781831       0.623490  0.258819   \n",
       "2010-01-02 02:00:00  0.918958      -0.781831       0.623490  0.500000   \n",
       "2010-01-02 03:00:00  0.918958      -0.781831       0.623490  0.707107   \n",
       "2010-01-02 04:00:00  0.918958      -0.781831       0.623490  0.866025   \n",
       "...                       ...            ...            ...       ...   \n",
       "2013-12-31 19:00:00  1.000000       0.974928      -0.222521 -0.965926   \n",
       "2013-12-31 20:00:00  1.000000       0.974928      -0.222521 -0.866025   \n",
       "2013-12-31 21:00:00  1.000000       0.974928      -0.222521 -0.707107   \n",
       "2013-12-31 22:00:00  1.000000       0.974928      -0.222521 -0.500000   \n",
       "2013-12-31 23:00:00  1.000000       0.974928      -0.222521 -0.258819   \n",
       "\n",
       "                     hour_cos      cbwd_sin  cbwd_cos  \n",
       "date                                                   \n",
       "2010-01-02 00:00:00  1.000000  1.224647e-16      -1.0  \n",
       "2010-01-02 01:00:00  0.965926  1.224647e-16      -1.0  \n",
       "2010-01-02 02:00:00  0.866025  1.224647e-16      -1.0  \n",
       "2010-01-02 03:00:00  0.707107  1.224647e-16      -1.0  \n",
       "2010-01-02 04:00:00  0.500000  1.224647e-16      -1.0  \n",
       "...                       ...           ...       ...  \n",
       "2013-12-31 19:00:00  0.258819 -2.449294e-16       1.0  \n",
       "2013-12-31 20:00:00  0.500000 -2.449294e-16       1.0  \n",
       "2013-12-31 21:00:00  0.707107 -2.449294e-16       1.0  \n",
       "2013-12-31 22:00:00  0.866025 -2.449294e-16       1.0  \n",
       "2013-12-31 23:00:00  0.965926 -2.449294e-16       1.0  \n",
       "\n",
       "[35040 rows x 18 columns]"
      ]
     },
     "execution_count": 23,
     "metadata": {},
     "output_type": "execute_result"
    }
   ],
   "source": [
    "X_train_norm"
   ]
  },
  {
   "cell_type": "code",
   "execution_count": 24,
   "metadata": {
    "collapsed": true,
    "id": "8o54ZXi8BRds"
   },
   "outputs": [],
   "source": [
    "#Just in case to ensure we did everything right\n",
    "assert all(x==np.float64 for x in list(X_train_norm.dtypes))"
   ]
  },
  {
   "cell_type": "markdown",
   "metadata": {
    "id": "Foh8WBtOBRds"
   },
   "source": [
    "It would be worth checking with some assertions that the manual normalizers work well. Let's leave it to later work."
   ]
  },
  {
   "cell_type": "markdown",
   "metadata": {
    "id": "ZxGHPuWVBRds"
   },
   "source": [
    "It is also worth noting, that the normalizers should be saved and used in production."
   ]
  },
  {
   "cell_type": "markdown",
   "metadata": {
    "id": "u4wtP5tLBRds"
   },
   "source": [
    "# Creating target (y) and \"windows\" (X) for modeling\n",
    "\n",
    "By default we use the next 24 hour value of \"pm2.5\" for prediction, that is, I would like to predict what the pm2.5 will be like **at this hour 24 hours from now.**\n",
    "\n",
    "We use the quite handy **seglearn** package for this."
   ]
  },
  {
   "cell_type": "markdown",
   "metadata": {
    "id": "JKtO6f97BRds"
   },
   "source": [
    "Because of computational reasons, we **use the window of 100 hours** to predict. Classical models would have hard time to accommodate substantially (like 5-10x) context windows, LSTM-s would suffer from the challenge of long term memory. After a basic run of modeling the next big challenge would be to investigate PACF structure more and use eg. stateful LSTM modeling to try to accommodate the large \"lookback\".   "
   ]
  },
  {
   "cell_type": "code",
   "execution_count": 25,
   "metadata": {
    "collapsed": true,
    "id": "1vKMkci0BRds"
   },
   "outputs": [],
   "source": [
    "TIME_WINDOW=100\n",
    "FORECAST_DISTANCE=24"
   ]
  },
  {
   "cell_type": "code",
   "execution_count": 26,
   "metadata": {
    "collapsed": true,
    "id": "ZILT9PewBRdt"
   },
   "outputs": [],
   "source": [
    "from seglearn.transform import FeatureRep, SegmentXYForecast, last\n",
    "\n",
    "segmenter = SegmentXYForecast(width=TIME_WINDOW, step=1, y_func=last, forecast=FORECAST_DISTANCE)\n",
    "\n",
    "X_train_rolled, y_train_rolled,_ = segmenter.fit_transform([X_train_norm.values],[y_train_norm.flatten()])"
   ]
  },
  {
   "cell_type": "code",
   "execution_count": 27,
   "metadata": {
    "colab": {
     "base_uri": "https://localhost:8080/"
    },
    "id": "ACg0aEZjBRdt",
    "outputId": "3d002194-592d-4584-e948-384f71fa1847"
   },
   "outputs": [
    {
     "data": {
      "text/plain": [
       "array([[[ 0.00000000e+00,  1.29778672e-01,  2.78688525e-01, ...,\n",
       "          1.00000000e+00,  1.22464680e-16, -1.00000000e+00],\n",
       "        [ 0.00000000e+00,  1.48893360e-01,  2.95081967e-01, ...,\n",
       "          9.65925826e-01,  1.22464680e-16, -1.00000000e+00],\n",
       "        [ 0.00000000e+00,  1.59959759e-01,  3.60655738e-01, ...,\n",
       "          8.66025404e-01,  1.22464680e-16, -1.00000000e+00],\n",
       "        ...,\n",
       "        [ 0.00000000e+00,  7.74647887e-02,  1.31147541e-01, ...,\n",
       "          9.65925826e-01,  1.00000000e+00,  6.12323400e-17],\n",
       "        [ 0.00000000e+00,  5.03018109e-02,  1.14754098e-01, ...,\n",
       "          8.66025404e-01,  1.00000000e+00,  6.12323400e-17],\n",
       "        [ 0.00000000e+00,  4.42655936e-02,  1.14754098e-01, ...,\n",
       "          7.07106781e-01,  1.00000000e+00,  6.12323400e-17]]])"
      ]
     },
     "execution_count": 27,
     "metadata": {},
     "output_type": "execute_result"
    }
   ],
   "source": [
    "X_train_rolled[:1]"
   ]
  },
  {
   "cell_type": "markdown",
   "metadata": {
    "id": "b3IJuuhKBRdt"
   },
   "source": [
    "# For non-sequence models \n",
    "\n",
    "We have to \"flatten\" the data to be able to use classical, non-sequence regression models from Scikit.\n",
    "\n",
    "**We only need to do this for X, any transformation of y is unnecessary.**"
   ]
  },
  {
   "cell_type": "code",
   "execution_count": 28,
   "metadata": {
    "colab": {
     "base_uri": "https://localhost:8080/"
    },
    "id": "Q1EKHl5sBRdt",
    "outputId": "e345a7ee-6edb-4a77-81a4-029918219df1"
   },
   "outputs": [
    {
     "data": {
      "text/plain": [
       "(34917, 100, 18)"
      ]
     },
     "execution_count": 28,
     "metadata": {},
     "output_type": "execute_result"
    }
   ],
   "source": [
    "X_train_rolled.shape"
   ]
  },
  {
   "cell_type": "code",
   "execution_count": 29,
   "metadata": {
    "colab": {
     "base_uri": "https://localhost:8080/"
    },
    "id": "nKaZlDrNBRdt",
    "outputId": "f3f928a1-3868-4e2f-f23d-aa8abb5e7e95"
   },
   "outputs": [
    {
     "data": {
      "text/plain": [
       "(34917, 1800)"
      ]
     },
     "execution_count": 29,
     "metadata": {},
     "output_type": "execute_result"
    }
   ],
   "source": [
    "shape = X_train_rolled.shape\n",
    "X_train_flattened = X_train_rolled.reshape(shape[0],shape[1]*shape[2])\n",
    "X_train_flattened.shape"
   ]
  },
  {
   "cell_type": "code",
   "execution_count": 30,
   "metadata": {
    "collapsed": true,
    "id": "xoYIhnqiBRdt"
   },
   "outputs": [],
   "source": [
    "X_valid_rolled, y_valid_rolled,_ = segmenter.fit_transform([X_valid_norm.values],[y_valid_norm.flatten()])\n",
    "\n",
    "shape = X_valid_rolled.shape\n",
    "X_valid_flattened = X_valid_rolled.reshape(shape[0],shape[1]*shape[2])"
   ]
  },
  {
   "cell_type": "markdown",
   "metadata": {
    "id": "MNMpdCVBBRdt"
   },
   "source": [
    "# Evaluation helper\n",
    "\n",
    "Use this function to evaluate your models **on validation data.**\n",
    "\n",
    "This assumes that your model has the `predict()` function, which is true for **Scikit-learn, XGBoost** and **Keras**, so you can can hand over any of those. \n",
    "\n",
    "A special issue by models optimized by iterative methods is to **get the final model**. **Early stopping and / or model save and reload** can help there.  \n",
    "\n",
    "**WARNING: This is just a basic evaluation scheme, more thorough investigation needed in the future!**"
   ]
  },
  {
   "cell_type": "code",
   "execution_count": 31,
   "metadata": {
    "collapsed": true,
    "id": "F1evCXzkBRdu"
   },
   "outputs": [],
   "source": [
    "from sklearn.metrics import mean_squared_error\n",
    "from math import sqrt\n",
    "\n",
    "def evaluate_model(model, X_valid, y_valid_true):\n",
    "    predictions = model.predict(X_valid)\n",
    "    rms = sqrt(mean_squared_error(y_valid_true, predictions))\n",
    "    print(\"Root mean squared error on valid:\",rms)\n",
    "    normalized_rms = normalizers[\"pm2.5\"].inverse_transform(np.array([rms]).reshape(1, -1))[0][0]\n",
    "    print(\"Root mean squared error on valid inverse transformed from normalization:\",normalized_rms)\n",
    "    return normalized_rms"
   ]
  },
  {
   "cell_type": "markdown",
   "metadata": {
    "id": "NNwhwqWbBRdu"
   },
   "source": [
    "# Classical modeling\n",
    "\n",
    "In \"classical\" modeling we assume a multiple regression case, so we **DO NOT USE time series as such, but the \"flat\" versions of the data** as input. Output is the same. "
   ]
  },
  {
   "cell_type": "markdown",
   "metadata": {
    "id": "cNuWw0dxBRdu"
   },
   "source": [
    "## Baseline - DummyPredictor\n",
    "\n",
    "**TASK Create a dummy predictor as a baseline. Use Scikit-learn's builtin capability to do dummy models in regression case. Use the default setting, that is the prediction of the mean value.**"
   ]
  },
  {
   "cell_type": "code",
   "execution_count": 32,
   "metadata": {
    "colab": {
     "base_uri": "https://localhost:8080/"
    },
    "id": "080DknzyBRdu",
    "outputId": "d0dc792a-e869-4830-cd24-dd414b2c0573"
   },
   "outputs": [
    {
     "data": {
      "text/plain": [
       "DummyRegressor()"
      ]
     },
     "execution_count": 32,
     "metadata": {},
     "output_type": "execute_result"
    }
   ],
   "source": [
    "from sklearn.dummy import DummyRegressor\n",
    "\n",
    "dummy_model = DummyRegressor(strategy=\"mean\")\n",
    "\n",
    "dummy_model.fit(X_train_flattened, y_train_rolled)"
   ]
  },
  {
   "cell_type": "markdown",
   "metadata": {
    "id": "NJHGGPxkBRdu"
   },
   "source": [
    "### Evaluation"
   ]
  },
  {
   "cell_type": "code",
   "execution_count": 33,
   "metadata": {
    "colab": {
     "base_uri": "https://localhost:8080/"
    },
    "id": "QdVD53wGBRdu",
    "outputId": "9016f505-31a8-4b6a-8b8a-6e6fc9b69ab6"
   },
   "outputs": [
    {
     "name": "stdout",
     "output_type": "stream",
     "text": [
      "Root mean squared error on valid: 0.0986950073704243\n",
      "Root mean squared error on valid inverse transformed from normalization: 98.10283732620175\n"
     ]
    }
   ],
   "source": [
    "result = evaluate_model(dummy_model,X_valid_rolled,y_valid_rolled)"
   ]
  },
  {
   "cell_type": "markdown",
   "metadata": {
    "id": "8yxN9YO5BRdu"
   },
   "source": [
    "## Fitting a RandomForest on raw data\n",
    "\n",
    "**TASK: Fit a RandomForest from Scikit. Please be aware, that the number of trees in the model is having a strong influence on training time.** \n",
    "\n",
    "**Suggestion:** use couple of tens of trees, definitely << 100 to be able to wait it out...\n",
    "\n",
    "**Pro tip:** To utilize all the CPU cores, use the right setting of n_jobs. That speeds things up."
   ]
  },
  {
   "cell_type": "code",
   "execution_count": 34,
   "metadata": {
    "collapsed": true,
    "id": "XIV1j_aHBRdu"
   },
   "outputs": [],
   "source": [
    "from sklearn.ensemble import RandomForestRegressor\n",
    "\n",
    "N_ESTIMATORS = 10\n",
    "RANDOM_STATE = 452543634"
   ]
  },
  {
   "cell_type": "code",
   "execution_count": 35,
   "metadata": {
    "colab": {
     "base_uri": "https://localhost:8080/"
    },
    "id": "CNmJkp0hBRdu",
    "outputId": "6845dca8-ff20-49f1-ff34-8c722b6b5388"
   },
   "outputs": [
    {
     "data": {
      "text/plain": [
       "RandomForestRegressor(max_depth=20, n_estimators=10, n_jobs=-1,\n",
       "                      random_state=452543634)"
      ]
     },
     "execution_count": 35,
     "metadata": {},
     "output_type": "execute_result"
    }
   ],
   "source": [
    "RF_base_model = RandomForestRegressor(n_estimators=N_ESTIMATORS, \n",
    "                                      random_state=RANDOM_STATE,max_depth=20\n",
    "                                      ,max_features='auto',n_jobs=-1, bootstrap=True)\n",
    "\n",
    "RF_base_model.fit(X_train_flattened, y_train_rolled)"
   ]
  },
  {
   "cell_type": "markdown",
   "metadata": {
    "id": "bXe-uEA8BRdv"
   },
   "source": [
    "### Evaluation\n"
   ]
  },
  {
   "cell_type": "code",
   "execution_count": 36,
   "metadata": {
    "colab": {
     "base_uri": "https://localhost:8080/"
    },
    "id": "JUJPwxBuBRdv",
    "outputId": "df99fdc2-aa6b-46f8-c243-2171744ef60c"
   },
   "outputs": [
    {
     "name": "stdout",
     "output_type": "stream",
     "text": [
      "Root mean squared error on valid: 0.0899854822489452\n",
      "Root mean squared error on valid inverse transformed from normalization: 89.44556935545152\n"
     ]
    }
   ],
   "source": [
    "result = evaluate_model(RF_base_model,X_valid_flattened,y_valid_rolled)"
   ]
  },
  {
   "cell_type": "markdown",
   "metadata": {
    "id": "T1S5SWhsBRdv"
   },
   "source": [
    "## Fitting a RandomForest on feature transformed data\n",
    "\n",
    "**TASK: Since we use `seglearn`, we can try to capitalize on it's functionality to calculate features from the time time series. Use `FeatureRep` from `seglearn` to transform features, fit a RandomForest and hope for the best!**"
   ]
  },
  {
   "cell_type": "code",
   "execution_count": 41,
   "metadata": {
    "colab": {
     "base_uri": "https://localhost:8080/"
    },
    "id": "QkY5DTm-BRdv",
    "outputId": "c633aa03-00ac-4247-d1aa-932c78fd1ca3"
   },
   "outputs": [
    {
     "data": {
      "text/plain": [
       "RandomForestRegressor(max_depth=20, n_estimators=10, n_jobs=-1,\n",
       "                      random_state=452543634)"
      ]
     },
     "execution_count": 41,
     "metadata": {},
     "output_type": "execute_result"
    }
   ],
   "source": [
    "RF_feature_model = RandomForestRegressor(n_estimators=N_ESTIMATORS, \n",
    "                                         random_state=RANDOM_STATE,\n",
    "                                         n_jobs=-1,max_depth=20,\n",
    "                                         max_features='auto', \n",
    "                                         bootstrap=True)\n",
    "\n",
    "feature_converter = FeatureRep()\n",
    "\n",
    "RF_feature_model.fit(feature_converter.fit_transform(X_train_flattened), y_train_rolled)"
   ]
  },
  {
   "cell_type": "markdown",
   "metadata": {
    "id": "xOjtRiDMBRdv"
   },
   "source": [
    "### Evaluation\n",
    "\n",
    "WARNING: This is just a basic evaluation scheme, more thorough investigation needed!"
   ]
  },
  {
   "cell_type": "code",
   "execution_count": 40,
   "metadata": {
    "colab": {
     "base_uri": "https://localhost:8080/"
    },
    "id": "RtF3TQCOBRdv",
    "outputId": "0ee8f9f3-f107-4210-9b65-a1e082ca660b"
   },
   "outputs": [
    {
     "name": "stdout",
     "output_type": "stream",
     "text": [
      "Root mean squared error on valid: 0.1051464142113672\n",
      "Root mean squared error on valid inverse transformed from normalization: 104.51553572609899\n"
     ]
    }
   ],
   "source": [
    "result = evaluate_model(RF_feature_model, feature_converter.fit_transform(X_valid_flattened), y_valid_rolled)"
   ]
  },
  {
   "cell_type": "markdown",
   "metadata": {
    "id": "hKKkebCPBRdv"
   },
   "source": [
    "## XGBoost for speedup\n",
    "\n",
    "Use the XGBoost library to fit gradient boosted trees to the problem. They are usually way quicker to learn and many times at least on par with RandomForests, or better. Let's see!"
   ]
  },
  {
   "cell_type": "code",
   "execution_count": 42,
   "metadata": {
    "collapsed": true,
    "id": "eUouEnVVBRdv"
   },
   "outputs": [],
   "source": [
    "import xgboost as xgb\n",
    "# If in trouble, use !pip install xgboost\n",
    "\n",
    "# XGBoost needs it's custom data format to run quickly\n",
    "dmatrix_train = xgb.DMatrix(data=X_train_flattened,label=y_train_rolled)\n",
    "dmatrix_valid = xgb.DMatrix(data=X_valid_flattened,label=y_valid_rolled)"
   ]
  },
  {
   "cell_type": "code",
   "execution_count": 43,
   "metadata": {
    "colab": {
     "base_uri": "https://localhost:8080/"
    },
    "id": "8MlLGFHBBRdv",
    "outputId": "09a49d73-5596-42cc-e63a-fecadb4a0e8e"
   },
   "outputs": [
    {
     "name": "stdout",
     "output_type": "stream",
     "text": [
      "[16:20:26] WARNING: /workspace/src/objective/regression_obj.cu:152: reg:linear is now deprecated in favor of reg:squarederror.\n",
      "[0]\teval-rmse:0.29134\ttrain-rmse:0.29356\n",
      "[1]\teval-rmse:0.212946\ttrain-rmse:0.212493\n",
      "[2]\teval-rmse:0.160285\ttrain-rmse:0.157629\n",
      "[3]\teval-rmse:0.128154\ttrain-rmse:0.121256\n",
      "[4]\teval-rmse:0.110638\ttrain-rmse:0.098039\n",
      "[5]\teval-rmse:0.099901\ttrain-rmse:0.083739\n",
      "[6]\teval-rmse:0.095326\ttrain-rmse:0.075583\n",
      "[7]\teval-rmse:0.092452\ttrain-rmse:0.070448\n",
      "[8]\teval-rmse:0.091702\ttrain-rmse:0.067213\n",
      "[9]\teval-rmse:0.090911\ttrain-rmse:0.065543\n",
      "[10]\teval-rmse:0.090401\ttrain-rmse:0.064179\n",
      "[11]\teval-rmse:0.090367\ttrain-rmse:0.062632\n",
      "[12]\teval-rmse:0.090399\ttrain-rmse:0.061823\n",
      "[13]\teval-rmse:0.090693\ttrain-rmse:0.061191\n",
      "[14]\teval-rmse:0.090767\ttrain-rmse:0.059721\n"
     ]
    }
   ],
   "source": [
    "params = {'objective': 'reg:linear', 'eval_metric': 'rmse', 'n_estimators': 20}\n",
    "\n",
    "evallist = [(dmatrix_valid, 'eval'), (dmatrix_train, 'train')]\n",
    "\n",
    "num_round = 15 #Can easily overfit, experiment with it!\n",
    "\n",
    "xg_reg = xgb.train(params,dmatrix_train,num_round,evallist)"
   ]
  },
  {
   "cell_type": "code",
   "execution_count": 44,
   "metadata": {
    "colab": {
     "base_uri": "https://localhost:8080/"
    },
    "id": "39DK0FeCBRdw",
    "outputId": "ced00ec0-768c-48be-cc62-cf67ffa11fc3"
   },
   "outputs": [
    {
     "name": "stdout",
     "output_type": "stream",
     "text": [
      "Root mean squared error on valid: 0.09076708228943094\n",
      "Root mean squared error on valid inverse transformed from normalization: 90.22247979569434\n"
     ]
    }
   ],
   "source": [
    "result = evaluate_model(xg_reg,dmatrix_valid,y_valid_rolled)"
   ]
  },
  {
   "cell_type": "markdown",
   "metadata": {
    "id": "9BEq8B5ZBRdw"
   },
   "source": [
    "# Building an LSTM model\n",
    "\n",
    "## Modeling assumptions\n",
    "\n",
    "**TASK:** We believe, that the time dependent structure of this dataset is complex, so we try to use LSTM models from Keras. We are not explicitly utilizing **statefulness**, that is a **major area to be investigated later on**.\n",
    "\n",
    "More information on statefulness can be found [here](https://philipperemy.github.io/keras-stateful-lstm/).\n",
    "\n",
    "\n",
    "Fit an LSTM model **on the time series - non-flat - data!**.\n",
    "\n",
    "Use:\n",
    "1. At least 1 LSTM layer\n",
    "2. A dense layer for output - think about activation! This is a regression case!\n",
    "\n",
    "**Very advisable** - but optional - to use Dropout. You can not use it everywhere, though... Experiment!\n",
    "\n",
    "You are allowed to use functional API, but for this **Sequential API is sufficient.**\n",
    "\n",
    "You **can use LeraningRateScheduler** if you like."
   ]
  },
  {
   "cell_type": "code",
   "execution_count": 45,
   "metadata": {
    "collapsed": true,
    "id": "GrkrpPQiBRdw"
   },
   "outputs": [],
   "source": [
    "LSTM_CELL_SIZE=2\n",
    "BATCH_SIZE = 64\n",
    "EPOCHS = 10\n",
    "DROPOUT_RATE=0.25"
   ]
  },
  {
   "cell_type": "code",
   "execution_count": 46,
   "metadata": {
    "colab": {
     "base_uri": "https://localhost:8080/"
    },
    "id": "nG449J6RzqKd",
    "outputId": "4932b9e2-1d84-42af-9883-46b12c268044"
   },
   "outputs": [
    {
     "name": "stdout",
     "output_type": "stream",
     "text": [
      "(35040, 18)\n",
      "(34917, 1800)\n",
      "(34917, 100, 18)\n"
     ]
    }
   ],
   "source": [
    "print(X_train.shape)\n",
    "print(X_train_flattened.shape)\n",
    "print(X_train_rolled.shape)"
   ]
  },
  {
   "cell_type": "code",
   "execution_count": 47,
   "metadata": {
    "colab": {
     "base_uri": "https://localhost:8080/"
    },
    "id": "jwWMFX8O0B6j",
    "outputId": "3ab7a486-9d5f-4595-cb73-9617ce0e2cdf"
   },
   "outputs": [
    {
     "name": "stdout",
     "output_type": "stream",
     "text": [
      "(35040,)\n",
      "(34917,)\n"
     ]
    }
   ],
   "source": [
    "print(y_train.shape)\n",
    "# print(y_train_flattened.shape)\n",
    "print(y_train_rolled.shape)"
   ]
  },
  {
   "cell_type": "code",
   "execution_count": 48,
   "metadata": {
    "colab": {
     "base_uri": "https://localhost:8080/"
    },
    "id": "4_cFhJUfBRdw",
    "outputId": "5d82e477-12cd-47d2-9ff1-410f3a19175e"
   },
   "outputs": [
    {
     "name": "stdout",
     "output_type": "stream",
     "text": [
      "Epoch 1/10\n",
      "546/546 [==============================] - 21s 35ms/step - loss: 0.0176 - val_loss: 0.0132\n",
      "Epoch 2/10\n",
      "546/546 [==============================] - 18s 33ms/step - loss: 0.0111 - val_loss: 0.0093\n",
      "Epoch 3/10\n",
      "546/546 [==============================] - 18s 33ms/step - loss: 0.0091 - val_loss: 0.0084\n",
      "Epoch 4/10\n",
      "546/546 [==============================] - 20s 37ms/step - loss: 0.0075 - val_loss: 0.0081\n",
      "Epoch 5/10\n",
      "546/546 [==============================] - 18s 33ms/step - loss: 0.0073 - val_loss: 0.0079\n",
      "Epoch 6/10\n",
      "546/546 [==============================] - 18s 33ms/step - loss: 0.0073 - val_loss: 0.0077\n",
      "Epoch 7/10\n",
      "546/546 [==============================] - 18s 33ms/step - loss: 0.0072 - val_loss: 0.0076\n",
      "Epoch 8/10\n",
      "546/546 [==============================] - 18s 33ms/step - loss: 0.0072 - val_loss: 0.0076\n",
      "Epoch 9/10\n",
      "546/546 [==============================] - 18s 33ms/step - loss: 0.0071 - val_loss: 0.0077\n",
      "Epoch 10/10\n",
      "546/546 [==============================] - 18s 32ms/step - loss: 0.0071 - val_loss: 0.0074\n"
     ]
    }
   ],
   "source": [
    "from tensorflow.keras import Sequential\n",
    "from tensorflow.math import exp\n",
    "from tensorflow.keras.layers import Dense, Dropout, LSTM\n",
    "from tensorflow.keras import backend as be\n",
    "from tensorflow.keras.callbacks import ModelCheckpoint, LearningRateScheduler\n",
    "\n",
    "column_count=len(X_train.columns) #Remember,column count before rolling...\n",
    "\n",
    "be.clear_session()\n",
    "\n",
    "# You might very well be needing it!\n",
    "# Remeber to save only what is worth it from validation perspective...\n",
    "# model_saver = ModelCheckpoint(...)\n",
    "\n",
    "# If you need it...\n",
    "# def schedule(epoch, lr):\n",
    "#    if epoch < 10:\n",
    "#      return lr\n",
    "#    else:\n",
    "#     return lr * exp(-0.1)\n",
    "\n",
    "# lr_scheduler = LearningRateScheduler(schedule)\n",
    "\n",
    "# Build your whole LSTM model here!\n",
    "model = Sequential()\n",
    "model.add(LSTM(units= LSTM_CELL_SIZE, input_shape = (TIME_WINDOW, column_count)))\n",
    "model.add(Dropout(DROPOUT_RATE))\n",
    "model.add(Dense(1, activation='relu'))\n",
    "#For shape remeber, we have a variable defining the \"window\" and the features in the window...\n",
    "\n",
    "model.compile(loss='mean_squared_error', optimizer ='adam')\n",
    "# Fit on the train data\n",
    "# USE the batch size parameter!\n",
    "# Use validation data - warning, a tuple of stuff!\n",
    "# Epochs as deemed necessary...\n",
    "# You should avoid shuffling the data maybe.\n",
    "# You can use the callbacks for LR schedule or model saving as seems fit.\n",
    "history = model.fit(X_train_rolled, y_train_rolled, batch_size=BATCH_SIZE, \n",
    "                    validation_data = (X_valid_rolled, y_valid_rolled),\n",
    "                    epochs = EPOCHS, verbose = 1)"
   ]
  },
  {
   "cell_type": "code",
   "execution_count": 49,
   "metadata": {
    "colab": {
     "base_uri": "https://localhost:8080/",
     "height": 266
    },
    "id": "JdhdOt-nBRdw",
    "outputId": "97072ec2-f029-4501-898f-89aea7bd5bf7"
   },
   "outputs": [
    {
     "data": {
      "image/png": "[encoded data removed]",
      "text/plain": [
       "<Figure size 432x288 with 1 Axes>"
      ]
     },
     "metadata": {
      "needs_background": "light"
     },
     "output_type": "display_data"
    }
   ],
   "source": [
    "plt.plot(history.history['loss'], label='train')\n",
    "plt.plot(history.history['val_loss'], label='test')\n",
    "plt.legend()\n",
    "plt.show()"
   ]
  },
  {
   "cell_type": "code",
   "execution_count": 50,
   "metadata": {
    "colab": {
     "base_uri": "https://localhost:8080/"
    },
    "id": "jTkixaICBRdw",
    "outputId": "4119dac0-5a53-4555-e8d8-5540d26a9c86"
   },
   "outputs": [
    {
     "name": "stdout",
     "output_type": "stream",
     "text": [
      "134/134 [==============================] - 1s 7ms/step\n",
      "Root mean squared error on valid: 0.08597428523391429\n",
      "Root mean squared error on valid inverse transformed from normalization: 85.4584395225108\n"
     ]
    }
   ],
   "source": [
    "# You can use the early stopped model OR load it. \n",
    "# For that you have to import the load function...\n",
    "# IF AND ONLY IF loading, it is good practice to throw out the trash from the graph...\n",
    "# be.clear_session()\n",
    "result = evaluate_model(model, X_valid_rolled, y_valid_rolled)"
   ]
  },
  {
   "cell_type": "code",
   "execution_count": 51,
   "metadata": {
    "collapsed": true,
    "id": "pai8iXo9BRdw"
   },
   "outputs": [],
   "source": [
    "assert result < 86.0"
   ]
  },
  {
   "cell_type": "markdown",
   "metadata": {
    "id": "0WUtse0FBRdx"
   },
   "source": [
    "# Things that should be improved\n",
    "\n",
    "- More conclusive investigation of PACF for better time window estimate\n",
    "    - It can well be, that long windows do not add that much to the performance\n",
    "- More interesting features for XGBoost (like from [tsfresh](https://tsfresh.readthedocs.io/en/latest/)), since present features are a disaster\n",
    "- MOST IMPORTANT: **More thorough error / prediction analysis!!!**\n",
    "- LSTM with **Custom iterator with stateful model**\n",
    "- Investigation of different loss function (eg. MAE) for training. (And with it, think abut the importance of extreme values: do we think they are outliers? Are they interesing to predict?)\n",
    "- Investigation of \"teacher forcing\" for LSTM-s in Keras (if it makes sense)\n",
    "\n",
    "# Conclusion\n",
    "\n",
    "Even with decent amount of struggle, the \"dummy\" of always using the mean is very appealing, so it seems, this is not that easy of a task 24 hours in advance. Further investigation of classical as well as neural models remains open!\n"
   ]
  },
  {
   "cell_type": "markdown",
   "metadata": {
    "id": "teTo16mlBRdx"
   },
   "source": [
    "# Final test\n",
    "\n",
    "We did not use the final test, since our investigations are not concluded yet. Remember: using it once before project \"go live\" is a good practice!"
   ]
  }
 ],
 "metadata": {
  "colab": {
   "collapsed_sections": [],
   "provenance": []
  },
  "kernelspec": {
   "display_name": "Python 3 (ipykernel)",
   "language": "python",
   "name": "python3"
  },
  "language_info": {
   "codemirror_mode": {
    "name": "ipython",
    "version": 3
   },
   "file_extension": ".py",
   "mimetype": "text/x-python",
   "name": "python",
   "nbconvert_exporter": "python",
   "pygments_lexer": "ipython3",
   "version": "3.9.12"
  },
  "toc": {
   "base_numbering": 1,
   "nav_menu": {},
   "number_sections": true,
   "sideBar": true,
   "skip_h1_title": false,
   "title_cell": "Table of Contents",
   "title_sidebar": "Contents",
   "toc_cell": false,
   "toc_position": {},
   "toc_section_display": true,
   "toc_window_display": false
  },
  "varInspector": {
   "cols": {
    "lenName": 16,
    "lenType": 16,
    "lenVar": 40
   },
   "kernels_config": {
    "python": {
     "delete_cmd_postfix": "",
     "delete_cmd_prefix": "del ",
     "library": "var_list.py",
     "varRefreshCmd": "print(var_dic_list())"
    },
    "r": {
     "delete_cmd_postfix": ") ",
     "delete_cmd_prefix": "rm(",
     "library": "var_list.r",
     "varRefreshCmd": "cat(var_dic_list()) "
    }
   },
   "types_to_exclude": [
    "module",
    "function",
    "builtin_function_or_method",
    "instance",
    "_Feature"
   ],
   "window_display": false
  }
 },
 "nbformat": 4,
 "nbformat_minor": 1
}
