{
 "cells": [
  {
   "cell_type": "code",
   "execution_count": 72,
   "id": "875f2401",
   "metadata": {},
   "outputs": [
    {
     "name": "stdout",
     "output_type": "stream",
     "text": [
      "Requirement already satisfied: jupyter in c:\\users\\xunge\\anaconda3\\lib\\site-packages (1.0.0)\n",
      "Requirement already satisfied: notebook in c:\\users\\xunge\\anaconda3\\lib\\site-packages (from jupyter) (6.3.0)\n",
      "Requirement already satisfied: ipykernel in c:\\users\\xunge\\anaconda3\\lib\\site-packages (from jupyter) (5.3.4)\n",
      "Requirement already satisfied: ipywidgets in c:\\users\\xunge\\anaconda3\\lib\\site-packages (from jupyter) (7.6.3)\n",
      "Requirement already satisfied: jupyter-console in c:\\users\\xunge\\anaconda3\\lib\\site-packages (from jupyter) (6.4.0)\n",
      "Requirement already satisfied: qtconsole in c:\\users\\xunge\\anaconda3\\lib\\site-packages (from jupyter) (5.0.3)\n",
      "Requirement already satisfied: nbconvert in c:\\users\\xunge\\anaconda3\\lib\\site-packages (from jupyter) (6.0.7)\n",
      "Requirement already satisfied: traitlets>=4.1.0 in c:\\users\\xunge\\anaconda3\\lib\\site-packages (from ipykernel->jupyter) (5.0.5)\n",
      "Requirement already satisfied: tornado>=4.2 in c:\\users\\xunge\\anaconda3\\lib\\site-packages (from ipykernel->jupyter) (6.1)\n",
      "Requirement already satisfied: jupyter-client in c:\\users\\xunge\\anaconda3\\lib\\site-packages (from ipykernel->jupyter) (6.1.12)\n",
      "Requirement already satisfied: ipython>=5.0.0 in c:\\users\\xunge\\anaconda3\\lib\\site-packages (from ipykernel->jupyter) (7.22.0)\n",
      "Requirement already satisfied: colorama in c:\\users\\xunge\\anaconda3\\lib\\site-packages (from ipython>=5.0.0->ipykernel->jupyter) (0.4.4)\n",
      "Requirement already satisfied: backcall in c:\\users\\xunge\\anaconda3\\lib\\site-packages (from ipython>=5.0.0->ipykernel->jupyter) (0.2.0)\n",
      "Requirement already satisfied: prompt-toolkit!=3.0.0,!=3.0.1,<3.1.0,>=2.0.0 in c:\\users\\xunge\\anaconda3\\lib\\site-packages (from ipython>=5.0.0->ipykernel->jupyter) (3.0.17)\n",
      "Requirement already satisfied: decorator in c:\\users\\xunge\\anaconda3\\lib\\site-packages (from ipython>=5.0.0->ipykernel->jupyter) (5.0.6)\n",
      "Requirement already satisfied: pickleshare in c:\\users\\xunge\\anaconda3\\lib\\site-packages (from ipython>=5.0.0->ipykernel->jupyter) (0.7.5)\n",
      "Requirement already satisfied: jedi>=0.16 in c:\\users\\xunge\\anaconda3\\lib\\site-packages (from ipython>=5.0.0->ipykernel->jupyter) (0.17.2)\n",
      "Requirement already satisfied: pygments in c:\\users\\xunge\\anaconda3\\lib\\site-packages (from ipython>=5.0.0->ipykernel->jupyter) (2.8.1)\n",
      "Requirement already satisfied: setuptools>=18.5 in c:\\users\\xunge\\anaconda3\\lib\\site-packages (from ipython>=5.0.0->ipykernel->jupyter) (52.0.0.post20210125)\n",
      "Requirement already satisfied: parso<0.8.0,>=0.7.0 in c:\\users\\xunge\\anaconda3\\lib\\site-packages (from jedi>=0.16->ipython>=5.0.0->ipykernel->jupyter) (0.7.0)\n",
      "Requirement already satisfied: wcwidth in c:\\users\\xunge\\anaconda3\\lib\\site-packages (from prompt-toolkit!=3.0.0,!=3.0.1,<3.1.0,>=2.0.0->ipython>=5.0.0->ipykernel->jupyter) (0.2.5)\n",
      "Requirement already satisfied: ipython-genutils in c:\\users\\xunge\\anaconda3\\lib\\site-packages (from traitlets>=4.1.0->ipykernel->jupyter) (0.2.0)\n",
      "Requirement already satisfied: nbformat>=4.2.0 in c:\\users\\xunge\\anaconda3\\lib\\site-packages (from ipywidgets->jupyter) (5.1.3)\n",
      "Requirement already satisfied: jupyterlab-widgets>=1.0.0 in c:\\users\\xunge\\anaconda3\\lib\\site-packages (from ipywidgets->jupyter) (1.0.0)\n",
      "Requirement already satisfied: widgetsnbextension~=3.5.0 in c:\\users\\xunge\\anaconda3\\lib\\site-packages (from ipywidgets->jupyter) (3.5.1)\n",
      "Requirement already satisfied: jsonschema!=2.5.0,>=2.4 in c:\\users\\xunge\\anaconda3\\lib\\site-packages (from nbformat>=4.2.0->ipywidgets->jupyter) (3.2.0)\n",
      "Requirement already satisfied: jupyter-core in c:\\users\\xunge\\anaconda3\\lib\\site-packages (from nbformat>=4.2.0->ipywidgets->jupyter) (4.7.1)\n",
      "Requirement already satisfied: pyrsistent>=0.14.0 in c:\\users\\xunge\\anaconda3\\lib\\site-packages (from jsonschema!=2.5.0,>=2.4->nbformat>=4.2.0->ipywidgets->jupyter) (0.17.3)\n",
      "Requirement already satisfied: attrs>=17.4.0 in c:\\users\\xunge\\anaconda3\\lib\\site-packages (from jsonschema!=2.5.0,>=2.4->nbformat>=4.2.0->ipywidgets->jupyter) (20.3.0)\n",
      "Requirement already satisfied: six>=1.11.0 in c:\\users\\xunge\\anaconda3\\lib\\site-packages (from jsonschema!=2.5.0,>=2.4->nbformat>=4.2.0->ipywidgets->jupyter) (1.15.0)\n",
      "Requirement already satisfied: prometheus-client in c:\\users\\xunge\\anaconda3\\lib\\site-packages (from notebook->jupyter) (0.10.1)\n",
      "Requirement already satisfied: jinja2 in c:\\users\\xunge\\anaconda3\\lib\\site-packages (from notebook->jupyter) (2.11.3)\n",
      "Requirement already satisfied: pyzmq>=17 in c:\\users\\xunge\\anaconda3\\lib\\site-packages (from notebook->jupyter) (20.0.0)\n",
      "Requirement already satisfied: Send2Trash>=1.5.0 in c:\\users\\xunge\\anaconda3\\lib\\site-packages (from notebook->jupyter) (1.5.0)\n",
      "Requirement already satisfied: argon2-cffi in c:\\users\\xunge\\anaconda3\\lib\\site-packages (from notebook->jupyter) (20.1.0)\n",
      "Requirement already satisfied: terminado>=0.8.3 in c:\\users\\xunge\\anaconda3\\lib\\site-packages (from notebook->jupyter) (0.9.4)\n",
      "Requirement already satisfied: python-dateutil>=2.1 in c:\\users\\xunge\\anaconda3\\lib\\site-packages (from jupyter-client->ipykernel->jupyter) (2.8.1)\n",
      "Requirement already satisfied: pywin32>=1.0 in c:\\users\\xunge\\anaconda3\\lib\\site-packages (from jupyter-core->nbformat>=4.2.0->ipywidgets->jupyter) (227)\n",
      "Requirement already satisfied: pywinpty>=0.5 in c:\\users\\xunge\\anaconda3\\lib\\site-packages (from terminado>=0.8.3->notebook->jupyter) (0.5.7)\n",
      "Requirement already satisfied: cffi>=1.0.0 in c:\\users\\xunge\\anaconda3\\lib\\site-packages (from argon2-cffi->notebook->jupyter) (1.14.5)\n",
      "Requirement already satisfied: pycparser in c:\\users\\xunge\\anaconda3\\lib\\site-packages (from cffi>=1.0.0->argon2-cffi->notebook->jupyter) (2.20)\n",
      "Requirement already satisfied: MarkupSafe>=0.23 in c:\\users\\xunge\\anaconda3\\lib\\site-packages (from jinja2->notebook->jupyter) (1.1.1)\n",
      "Requirement already satisfied: testpath in c:\\users\\xunge\\anaconda3\\lib\\site-packages (from nbconvert->jupyter) (0.4.4)\n",
      "Requirement already satisfied: mistune<2,>=0.8.1 in c:\\users\\xunge\\anaconda3\\lib\\site-packages (from nbconvert->jupyter) (0.8.4)\n",
      "Requirement already satisfied: bleach in c:\\users\\xunge\\anaconda3\\lib\\site-packages (from nbconvert->jupyter) (3.3.0)\n",
      "Requirement already satisfied: defusedxml in c:\\users\\xunge\\anaconda3\\lib\\site-packages (from nbconvert->jupyter) (0.7.1)\n",
      "Requirement already satisfied: jupyterlab-pygments in c:\\users\\xunge\\anaconda3\\lib\\site-packages (from nbconvert->jupyter) (0.1.2)\n",
      "Requirement already satisfied: nbclient<0.6.0,>=0.5.0 in c:\\users\\xunge\\anaconda3\\lib\\site-packages (from nbconvert->jupyter) (0.5.3)\n",
      "Requirement already satisfied: entrypoints>=0.2.2 in c:\\users\\xunge\\anaconda3\\lib\\site-packages (from nbconvert->jupyter) (0.3)\n",
      "Requirement already satisfied: pandocfilters>=1.4.1 in c:\\users\\xunge\\anaconda3\\lib\\site-packages (from nbconvert->jupyter) (1.4.3)\n",
      "Requirement already satisfied: async-generator in c:\\users\\xunge\\anaconda3\\lib\\site-packages (from nbclient<0.6.0,>=0.5.0->nbconvert->jupyter) (1.10)\n",
      "Requirement already satisfied: nest-asyncio in c:\\users\\xunge\\anaconda3\\lib\\site-packages (from nbclient<0.6.0,>=0.5.0->nbconvert->jupyter) (1.5.1)\n",
      "Requirement already satisfied: webencodings in c:\\users\\xunge\\anaconda3\\lib\\site-packages (from bleach->nbconvert->jupyter) (0.5.1)\n",
      "Requirement already satisfied: packaging in c:\\users\\xunge\\anaconda3\\lib\\site-packages (from bleach->nbconvert->jupyter) (20.9)\n",
      "Requirement already satisfied: pyparsing>=2.0.2 in c:\\users\\xunge\\anaconda3\\lib\\site-packages (from packaging->bleach->nbconvert->jupyter) (2.4.7)\n",
      "Requirement already satisfied: qtpy in c:\\users\\xunge\\anaconda3\\lib\\site-packages (from qtconsole->jupyter) (1.9.0)\n",
      "Note: you may need to restart the kernel to use updated packages.\n"
     ]
    }
   ],
   "source": [
    "pip install jupyter "
   ]
  },
  {
   "cell_type": "code",
   "execution_count": 73,
   "id": "ac0ed79d",
   "metadata": {},
   "outputs": [
    {
     "name": "stdout",
     "output_type": "stream",
     "text": [
      "Requirement already satisfied: pandas in c:\\users\\xunge\\anaconda3\\lib\\site-packages (1.2.4)\n",
      "Requirement already satisfied: python-dateutil>=2.7.3 in c:\\users\\xunge\\anaconda3\\lib\\site-packages (from pandas) (2.8.1)\n",
      "Requirement already satisfied: pytz>=2017.3 in c:\\users\\xunge\\anaconda3\\lib\\site-packages (from pandas) (2021.1)\n",
      "Requirement already satisfied: numpy>=1.16.5 in c:\\users\\xunge\\anaconda3\\lib\\site-packages (from pandas) (1.20.1)\n",
      "Requirement already satisfied: six>=1.5 in c:\\users\\xunge\\anaconda3\\lib\\site-packages (from python-dateutil>=2.7.3->pandas) (1.15.0)\n",
      "Note: you may need to restart the kernel to use updated packages.\n"
     ]
    }
   ],
   "source": [
    "pip install pandas"
   ]
  },
  {
   "cell_type": "code",
   "execution_count": 74,
   "id": "3c079d25",
   "metadata": {},
   "outputs": [
    {
     "name": "stdout",
     "output_type": "stream",
     "text": [
      "Requirement already satisfied: seaborn in c:\\users\\xunge\\anaconda3\\lib\\site-packages (0.11.1)\n",
      "Requirement already satisfied: numpy>=1.15 in c:\\users\\xunge\\anaconda3\\lib\\site-packages (from seaborn) (1.20.1)\n",
      "Requirement already satisfied: pandas>=0.23 in c:\\users\\xunge\\anaconda3\\lib\\site-packages (from seaborn) (1.2.4)\n",
      "Requirement already satisfied: scipy>=1.0 in c:\\users\\xunge\\anaconda3\\lib\\site-packages (from seaborn) (1.6.2)\n",
      "Requirement already satisfied: matplotlib>=2.2 in c:\\users\\xunge\\anaconda3\\lib\\site-packages (from seaborn) (3.3.4)\n",
      "Requirement already satisfied: python-dateutil>=2.1 in c:\\users\\xunge\\anaconda3\\lib\\site-packages (from matplotlib>=2.2->seaborn) (2.8.1)\n",
      "Requirement already satisfied: kiwisolver>=1.0.1 in c:\\users\\xunge\\anaconda3\\lib\\site-packages (from matplotlib>=2.2->seaborn) (1.3.1)\n",
      "Requirement already satisfied: pillow>=6.2.0 in c:\\users\\xunge\\anaconda3\\lib\\site-packages (from matplotlib>=2.2->seaborn) (8.2.0)\n",
      "Requirement already satisfied: cycler>=0.10 in c:\\users\\xunge\\anaconda3\\lib\\site-packages (from matplotlib>=2.2->seaborn) (0.10.0)\n",
      "Requirement already satisfied: pyparsing!=2.0.4,!=2.1.2,!=2.1.6,>=2.0.3 in c:\\users\\xunge\\anaconda3\\lib\\site-packages (from matplotlib>=2.2->seaborn) (2.4.7)\n",
      "Requirement already satisfied: six in c:\\users\\xunge\\anaconda3\\lib\\site-packages (from cycler>=0.10->matplotlib>=2.2->seaborn) (1.15.0)\n",
      "Requirement already satisfied: pytz>=2017.3 in c:\\users\\xunge\\anaconda3\\lib\\site-packages (from pandas>=0.23->seaborn) (2021.1)\n",
      "Note: you may need to restart the kernel to use updated packages.\n"
     ]
    }
   ],
   "source": [
    "pip install seaborn"
   ]
  },
  {
   "cell_type": "code",
   "execution_count": 75,
   "id": "82f69dd7",
   "metadata": {},
   "outputs": [
    {
     "name": "stdout",
     "output_type": "stream",
     "text": [
      "Requirement already satisfied: numpy in c:\\users\\xunge\\anaconda3\\lib\\site-packages (1.20.1)\n",
      "Note: you may need to restart the kernel to use updated packages.\n"
     ]
    }
   ],
   "source": [
    "pip install numpy"
   ]
  },
  {
   "cell_type": "code",
   "execution_count": 76,
   "id": "55a06205",
   "metadata": {
    "scrolled": true
   },
   "outputs": [
    {
     "name": "stdout",
     "output_type": "stream",
     "text": [
      "Requirement already satisfied: matplotlib in c:\\users\\xunge\\anaconda3\\lib\\site-packages (3.3.4)\n",
      "Requirement already satisfied: cycler>=0.10 in c:\\users\\xunge\\anaconda3\\lib\\site-packages (from matplotlib) (0.10.0)\n",
      "Requirement already satisfied: numpy>=1.15 in c:\\users\\xunge\\anaconda3\\lib\\site-packages (from matplotlib) (1.20.1)\n",
      "Requirement already satisfied: pyparsing!=2.0.4,!=2.1.2,!=2.1.6,>=2.0.3 in c:\\users\\xunge\\anaconda3\\lib\\site-packages (from matplotlib) (2.4.7)\n",
      "Requirement already satisfied: kiwisolver>=1.0.1 in c:\\users\\xunge\\anaconda3\\lib\\site-packages (from matplotlib) (1.3.1)\n",
      "Requirement already satisfied: python-dateutil>=2.1 in c:\\users\\xunge\\anaconda3\\lib\\site-packages (from matplotlib) (2.8.1)\n",
      "Requirement already satisfied: pillow>=6.2.0 in c:\\users\\xunge\\anaconda3\\lib\\site-packages (from matplotlib) (8.2.0)\n",
      "Requirement already satisfied: six in c:\\users\\xunge\\anaconda3\\lib\\site-packages (from cycler>=0.10->matplotlib) (1.15.0)\n",
      "Note: you may need to restart the kernel to use updated packages.\n"
     ]
    }
   ],
   "source": [
    "pip install matplotlib"
   ]
  },
  {
   "cell_type": "code",
   "execution_count": 77,
   "id": "b8d19c93",
   "metadata": {},
   "outputs": [
    {
     "name": "stdout",
     "output_type": "stream",
     "text": [
      "Requirement already satisfied: statsmodels in c:\\users\\xunge\\anaconda3\\lib\\site-packages (0.12.2)\n",
      "Requirement already satisfied: numpy>=1.15 in c:\\users\\xunge\\anaconda3\\lib\\site-packages (from statsmodels) (1.20.1)\n",
      "Requirement already satisfied: scipy>=1.1 in c:\\users\\xunge\\anaconda3\\lib\\site-packages (from statsmodels) (1.6.2)\n",
      "Requirement already satisfied: pandas>=0.21 in c:\\users\\xunge\\anaconda3\\lib\\site-packages (from statsmodels) (1.2.4)\n",
      "Requirement already satisfied: patsy>=0.5 in c:\\users\\xunge\\anaconda3\\lib\\site-packages (from statsmodels) (0.5.1)\n",
      "Requirement already satisfied: pytz>=2017.3 in c:\\users\\xunge\\anaconda3\\lib\\site-packages (from pandas>=0.21->statsmodels) (2021.1)\n",
      "Requirement already satisfied: python-dateutil>=2.7.3 in c:\\users\\xunge\\anaconda3\\lib\\site-packages (from pandas>=0.21->statsmodels) (2.8.1)\n",
      "Requirement already satisfied: six in c:\\users\\xunge\\anaconda3\\lib\\site-packages (from patsy>=0.5->statsmodels) (1.15.0)\n",
      "Note: you may need to restart the kernel to use updated packages.\n"
     ]
    }
   ],
   "source": [
    "pip install statsmodels"
   ]
  },
  {
   "cell_type": "code",
   "execution_count": 1,
   "id": "aff91818",
   "metadata": {},
   "outputs": [
    {
     "ename": "ModuleNotFoundError",
     "evalue": "No module named 'seaborn'",
     "output_type": "error",
     "traceback": [
      "\u001b[0;31m---------------------------------------------------------------------------\u001b[0m",
      "\u001b[0;31mModuleNotFoundError\u001b[0m                       Traceback (most recent call last)",
      "\u001b[0;32m/var/folders/4b/l73ksqn90ls5dx9x6n2k93xc0000gn/T/ipykernel_36242/445630253.py\u001b[0m in \u001b[0;36m<module>\u001b[0;34m\u001b[0m\n\u001b[1;32m      4\u001b[0m \u001b[0;32mimport\u001b[0m \u001b[0mnumpy\u001b[0m \u001b[0;32mas\u001b[0m \u001b[0mnp\u001b[0m\u001b[0;34m\u001b[0m\u001b[0;34m\u001b[0m\u001b[0m\n\u001b[1;32m      5\u001b[0m \u001b[0;32mimport\u001b[0m \u001b[0mmatplotlib\u001b[0m\u001b[0;34m.\u001b[0m\u001b[0mpyplot\u001b[0m \u001b[0;32mas\u001b[0m \u001b[0mplt\u001b[0m\u001b[0;34m\u001b[0m\u001b[0;34m\u001b[0m\u001b[0m\n\u001b[0;32m----> 6\u001b[0;31m \u001b[0;32mimport\u001b[0m \u001b[0mseaborn\u001b[0m\u001b[0;34m\u001b[0m\u001b[0;34m\u001b[0m\u001b[0m\n\u001b[0m\u001b[1;32m      7\u001b[0m \u001b[0mget_ipython\u001b[0m\u001b[0;34m(\u001b[0m\u001b[0;34m)\u001b[0m\u001b[0;34m.\u001b[0m\u001b[0mrun_line_magic\u001b[0m\u001b[0;34m(\u001b[0m\u001b[0;34m'matplotlib'\u001b[0m\u001b[0;34m,\u001b[0m \u001b[0;34m'inline'\u001b[0m\u001b[0;34m)\u001b[0m\u001b[0;34m\u001b[0m\u001b[0;34m\u001b[0m\u001b[0m\n",
      "\u001b[0;31mModuleNotFoundError\u001b[0m: No module named 'seaborn'"
     ]
    }
   ],
   "source": [
    "#import libraries\n",
    "import os\n",
    "import pandas as pd\n",
    "import numpy as np\n",
    "import matplotlib.pyplot as plt\n",
    "import seaborn\n",
    "%matplotlib inline"
   ]
  },
  {
   "cell_type": "code",
   "execution_count": 79,
   "id": "d2f0cbe3",
   "metadata": {},
   "outputs": [],
   "source": [
    "os.chdir(r'C:\\Users\\Xunge\\Desktop\\regression')"
   ]
  },
  {
   "cell_type": "code",
   "execution_count": 80,
   "id": "bf89d8cd",
   "metadata": {},
   "outputs": [],
   "source": [
    "Bitcoin = pd.read_csv('BTC-price.csv')"
   ]
  },
  {
   "cell_type": "code",
   "execution_count": 81,
   "id": "70719a99",
   "metadata": {},
   "outputs": [
    {
     "data": {
      "text/html": [
       "<div>\n",
       "<style scoped>\n",
       "    .dataframe tbody tr th:only-of-type {\n",
       "        vertical-align: middle;\n",
       "    }\n",
       "\n",
       "    .dataframe tbody tr th {\n",
       "        vertical-align: top;\n",
       "    }\n",
       "\n",
       "    .dataframe thead th {\n",
       "        text-align: right;\n",
       "    }\n",
       "</style>\n",
       "<table border=\"1\" class=\"dataframe\">\n",
       "  <thead>\n",
       "    <tr style=\"text-align: right;\">\n",
       "      <th></th>\n",
       "      <th>Date</th>\n",
       "      <th>Open</th>\n",
       "      <th>High</th>\n",
       "      <th>Low</th>\n",
       "      <th>Close</th>\n",
       "      <th>Adj Close</th>\n",
       "      <th>Volume</th>\n",
       "    </tr>\n",
       "  </thead>\n",
       "  <tbody>\n",
       "    <tr>\n",
       "      <th>0</th>\n",
       "      <td>2020-11-17</td>\n",
       "      <td>16685.691406</td>\n",
       "      <td>17782.919922</td>\n",
       "      <td>16564.544922</td>\n",
       "      <td>17645.406250</td>\n",
       "      <td>17645.406250</td>\n",
       "      <td>39006849170</td>\n",
       "    </tr>\n",
       "    <tr>\n",
       "      <th>1</th>\n",
       "      <td>2020-11-18</td>\n",
       "      <td>17645.191406</td>\n",
       "      <td>18393.949219</td>\n",
       "      <td>17352.906250</td>\n",
       "      <td>17804.005859</td>\n",
       "      <td>17804.005859</td>\n",
       "      <td>49064800278</td>\n",
       "    </tr>\n",
       "    <tr>\n",
       "      <th>2</th>\n",
       "      <td>2020-11-19</td>\n",
       "      <td>17803.861328</td>\n",
       "      <td>18119.546875</td>\n",
       "      <td>17382.554688</td>\n",
       "      <td>17817.089844</td>\n",
       "      <td>17817.089844</td>\n",
       "      <td>36985055355</td>\n",
       "    </tr>\n",
       "    <tr>\n",
       "      <th>3</th>\n",
       "      <td>2020-11-20</td>\n",
       "      <td>17817.083984</td>\n",
       "      <td>18773.226563</td>\n",
       "      <td>17765.794922</td>\n",
       "      <td>18621.314453</td>\n",
       "      <td>18621.314453</td>\n",
       "      <td>36992873940</td>\n",
       "    </tr>\n",
       "    <tr>\n",
       "      <th>4</th>\n",
       "      <td>2020-11-21</td>\n",
       "      <td>18621.316406</td>\n",
       "      <td>18936.621094</td>\n",
       "      <td>18444.359375</td>\n",
       "      <td>18642.232422</td>\n",
       "      <td>18642.232422</td>\n",
       "      <td>39650210707</td>\n",
       "    </tr>\n",
       "  </tbody>\n",
       "</table>\n",
       "</div>"
      ],
      "text/plain": [
       "         Date          Open          High           Low         Close  \\\n",
       "0  2020-11-17  16685.691406  17782.919922  16564.544922  17645.406250   \n",
       "1  2020-11-18  17645.191406  18393.949219  17352.906250  17804.005859   \n",
       "2  2020-11-19  17803.861328  18119.546875  17382.554688  17817.089844   \n",
       "3  2020-11-20  17817.083984  18773.226563  17765.794922  18621.314453   \n",
       "4  2020-11-21  18621.316406  18936.621094  18444.359375  18642.232422   \n",
       "\n",
       "      Adj Close       Volume  \n",
       "0  17645.406250  39006849170  \n",
       "1  17804.005859  49064800278  \n",
       "2  17817.089844  36985055355  \n",
       "3  18621.314453  36992873940  \n",
       "4  18642.232422  39650210707  "
      ]
     },
     "execution_count": 81,
     "metadata": {},
     "output_type": "execute_result"
    }
   ],
   "source": [
    "Bitcoin.head()"
   ]
  },
  {
   "cell_type": "code",
   "execution_count": 82,
   "id": "2b3d457e",
   "metadata": {},
   "outputs": [
    {
     "data": {
      "text/html": [
       "<div>\n",
       "<style scoped>\n",
       "    .dataframe tbody tr th:only-of-type {\n",
       "        vertical-align: middle;\n",
       "    }\n",
       "\n",
       "    .dataframe tbody tr th {\n",
       "        vertical-align: top;\n",
       "    }\n",
       "\n",
       "    .dataframe thead th {\n",
       "        text-align: right;\n",
       "    }\n",
       "</style>\n",
       "<table border=\"1\" class=\"dataframe\">\n",
       "  <thead>\n",
       "    <tr style=\"text-align: right;\">\n",
       "      <th></th>\n",
       "      <th>Date</th>\n",
       "      <th>Open</th>\n",
       "      <th>High</th>\n",
       "      <th>Low</th>\n",
       "      <th>Close</th>\n",
       "      <th>Adj Close</th>\n",
       "      <th>Volume</th>\n",
       "    </tr>\n",
       "  </thead>\n",
       "  <tbody>\n",
       "    <tr>\n",
       "      <th>0</th>\n",
       "      <td>2020-11-17</td>\n",
       "      <td>16685.691406</td>\n",
       "      <td>17782.919922</td>\n",
       "      <td>16564.544922</td>\n",
       "      <td>17645.406250</td>\n",
       "      <td>17645.406250</td>\n",
       "      <td>39006849170</td>\n",
       "    </tr>\n",
       "    <tr>\n",
       "      <th>1</th>\n",
       "      <td>2020-11-18</td>\n",
       "      <td>17645.191406</td>\n",
       "      <td>18393.949219</td>\n",
       "      <td>17352.906250</td>\n",
       "      <td>17804.005859</td>\n",
       "      <td>17804.005859</td>\n",
       "      <td>49064800278</td>\n",
       "    </tr>\n",
       "    <tr>\n",
       "      <th>2</th>\n",
       "      <td>2020-11-19</td>\n",
       "      <td>17803.861328</td>\n",
       "      <td>18119.546875</td>\n",
       "      <td>17382.554688</td>\n",
       "      <td>17817.089844</td>\n",
       "      <td>17817.089844</td>\n",
       "      <td>36985055355</td>\n",
       "    </tr>\n",
       "    <tr>\n",
       "      <th>3</th>\n",
       "      <td>2020-11-20</td>\n",
       "      <td>17817.083984</td>\n",
       "      <td>18773.226563</td>\n",
       "      <td>17765.794922</td>\n",
       "      <td>18621.314453</td>\n",
       "      <td>18621.314453</td>\n",
       "      <td>36992873940</td>\n",
       "    </tr>\n",
       "    <tr>\n",
       "      <th>4</th>\n",
       "      <td>2020-11-21</td>\n",
       "      <td>18621.316406</td>\n",
       "      <td>18936.621094</td>\n",
       "      <td>18444.359375</td>\n",
       "      <td>18642.232422</td>\n",
       "      <td>18642.232422</td>\n",
       "      <td>39650210707</td>\n",
       "    </tr>\n",
       "    <tr>\n",
       "      <th>...</th>\n",
       "      <td>...</td>\n",
       "      <td>...</td>\n",
       "      <td>...</td>\n",
       "      <td>...</td>\n",
       "      <td>...</td>\n",
       "      <td>...</td>\n",
       "      <td>...</td>\n",
       "    </tr>\n",
       "    <tr>\n",
       "      <th>361</th>\n",
       "      <td>2021-11-13</td>\n",
       "      <td>64158.121094</td>\n",
       "      <td>64915.675781</td>\n",
       "      <td>63303.734375</td>\n",
       "      <td>64469.527344</td>\n",
       "      <td>64469.527344</td>\n",
       "      <td>30474228777</td>\n",
       "    </tr>\n",
       "    <tr>\n",
       "      <th>362</th>\n",
       "      <td>2021-11-14</td>\n",
       "      <td>64455.371094</td>\n",
       "      <td>65495.179688</td>\n",
       "      <td>63647.808594</td>\n",
       "      <td>65466.839844</td>\n",
       "      <td>65466.839844</td>\n",
       "      <td>25122092191</td>\n",
       "    </tr>\n",
       "    <tr>\n",
       "      <th>363</th>\n",
       "      <td>2021-11-15</td>\n",
       "      <td>65521.289063</td>\n",
       "      <td>66281.570313</td>\n",
       "      <td>63548.144531</td>\n",
       "      <td>63557.871094</td>\n",
       "      <td>63557.871094</td>\n",
       "      <td>30558763548</td>\n",
       "    </tr>\n",
       "    <tr>\n",
       "      <th>364</th>\n",
       "      <td>2021-11-16</td>\n",
       "      <td>63721.195313</td>\n",
       "      <td>63721.195313</td>\n",
       "      <td>59016.335938</td>\n",
       "      <td>60161.246094</td>\n",
       "      <td>60161.246094</td>\n",
       "      <td>46844335592</td>\n",
       "    </tr>\n",
       "    <tr>\n",
       "      <th>365</th>\n",
       "      <td>2021-11-17</td>\n",
       "      <td>59967.230469</td>\n",
       "      <td>66304.296875</td>\n",
       "      <td>58838.714844</td>\n",
       "      <td>59536.011719</td>\n",
       "      <td>59536.011719</td>\n",
       "      <td>42145148928</td>\n",
       "    </tr>\n",
       "  </tbody>\n",
       "</table>\n",
       "<p>366 rows × 7 columns</p>\n",
       "</div>"
      ],
      "text/plain": [
       "           Date          Open          High           Low         Close  \\\n",
       "0    2020-11-17  16685.691406  17782.919922  16564.544922  17645.406250   \n",
       "1    2020-11-18  17645.191406  18393.949219  17352.906250  17804.005859   \n",
       "2    2020-11-19  17803.861328  18119.546875  17382.554688  17817.089844   \n",
       "3    2020-11-20  17817.083984  18773.226563  17765.794922  18621.314453   \n",
       "4    2020-11-21  18621.316406  18936.621094  18444.359375  18642.232422   \n",
       "..          ...           ...           ...           ...           ...   \n",
       "361  2021-11-13  64158.121094  64915.675781  63303.734375  64469.527344   \n",
       "362  2021-11-14  64455.371094  65495.179688  63647.808594  65466.839844   \n",
       "363  2021-11-15  65521.289063  66281.570313  63548.144531  63557.871094   \n",
       "364  2021-11-16  63721.195313  63721.195313  59016.335938  60161.246094   \n",
       "365  2021-11-17  59967.230469  66304.296875  58838.714844  59536.011719   \n",
       "\n",
       "        Adj Close       Volume  \n",
       "0    17645.406250  39006849170  \n",
       "1    17804.005859  49064800278  \n",
       "2    17817.089844  36985055355  \n",
       "3    18621.314453  36992873940  \n",
       "4    18642.232422  39650210707  \n",
       "..            ...          ...  \n",
       "361  64469.527344  30474228777  \n",
       "362  65466.839844  25122092191  \n",
       "363  63557.871094  30558763548  \n",
       "364  60161.246094  46844335592  \n",
       "365  59536.011719  42145148928  \n",
       "\n",
       "[366 rows x 7 columns]"
      ]
     },
     "execution_count": 82,
     "metadata": {},
     "output_type": "execute_result"
    }
   ],
   "source": [
    "Bitcoin"
   ]
  },
  {
   "cell_type": "code",
   "execution_count": 83,
   "id": "654befab",
   "metadata": {},
   "outputs": [
    {
     "data": {
      "text/html": [
       "<div>\n",
       "<style scoped>\n",
       "    .dataframe tbody tr th:only-of-type {\n",
       "        vertical-align: middle;\n",
       "    }\n",
       "\n",
       "    .dataframe tbody tr th {\n",
       "        vertical-align: top;\n",
       "    }\n",
       "\n",
       "    .dataframe thead th {\n",
       "        text-align: right;\n",
       "    }\n",
       "</style>\n",
       "<table border=\"1\" class=\"dataframe\">\n",
       "  <thead>\n",
       "    <tr style=\"text-align: right;\">\n",
       "      <th></th>\n",
       "      <th>Open</th>\n",
       "      <th>High</th>\n",
       "      <th>Low</th>\n",
       "      <th>Close</th>\n",
       "      <th>Adj Close</th>\n",
       "      <th>Volume</th>\n",
       "    </tr>\n",
       "  </thead>\n",
       "  <tbody>\n",
       "    <tr>\n",
       "      <th>count</th>\n",
       "      <td>366.000000</td>\n",
       "      <td>366.000000</td>\n",
       "      <td>366.000000</td>\n",
       "      <td>366.000000</td>\n",
       "      <td>366.000000</td>\n",
       "      <td>3.660000e+02</td>\n",
       "    </tr>\n",
       "    <tr>\n",
       "      <th>mean</th>\n",
       "      <td>43547.505481</td>\n",
       "      <td>44862.243933</td>\n",
       "      <td>42136.731269</td>\n",
       "      <td>43660.341066</td>\n",
       "      <td>43660.341066</td>\n",
       "      <td>4.812912e+10</td>\n",
       "    </tr>\n",
       "    <tr>\n",
       "      <th>std</th>\n",
       "      <td>12922.483993</td>\n",
       "      <td>13137.313471</td>\n",
       "      <td>12669.154192</td>\n",
       "      <td>12878.873979</td>\n",
       "      <td>12878.873979</td>\n",
       "      <td>2.442343e+10</td>\n",
       "    </tr>\n",
       "    <tr>\n",
       "      <th>min</th>\n",
       "      <td>16685.691406</td>\n",
       "      <td>17445.023438</td>\n",
       "      <td>16351.035156</td>\n",
       "      <td>17108.402344</td>\n",
       "      <td>17108.402344</td>\n",
       "      <td>1.878799e+10</td>\n",
       "    </tr>\n",
       "    <tr>\n",
       "      <th>25%</th>\n",
       "      <td>34301.618164</td>\n",
       "      <td>35503.604493</td>\n",
       "      <td>32984.143555</td>\n",
       "      <td>34345.874024</td>\n",
       "      <td>34345.874024</td>\n",
       "      <td>3.369386e+10</td>\n",
       "    </tr>\n",
       "    <tr>\n",
       "      <th>50%</th>\n",
       "      <td>44896.505860</td>\n",
       "      <td>46611.119141</td>\n",
       "      <td>43461.615235</td>\n",
       "      <td>44940.628907</td>\n",
       "      <td>44940.628907</td>\n",
       "      <td>4.299405e+10</td>\n",
       "    </tr>\n",
       "    <tr>\n",
       "      <th>75%</th>\n",
       "      <td>54929.137696</td>\n",
       "      <td>56721.057617</td>\n",
       "      <td>53415.832031</td>\n",
       "      <td>55016.893555</td>\n",
       "      <td>55016.893555</td>\n",
       "      <td>5.851956e+10</td>\n",
       "    </tr>\n",
       "    <tr>\n",
       "      <th>max</th>\n",
       "      <td>67549.734375</td>\n",
       "      <td>68789.625000</td>\n",
       "      <td>66382.062500</td>\n",
       "      <td>67566.828125</td>\n",
       "      <td>67566.828125</td>\n",
       "      <td>3.509679e+11</td>\n",
       "    </tr>\n",
       "  </tbody>\n",
       "</table>\n",
       "</div>"
      ],
      "text/plain": [
       "               Open          High           Low         Close     Adj Close  \\\n",
       "count    366.000000    366.000000    366.000000    366.000000    366.000000   \n",
       "mean   43547.505481  44862.243933  42136.731269  43660.341066  43660.341066   \n",
       "std    12922.483993  13137.313471  12669.154192  12878.873979  12878.873979   \n",
       "min    16685.691406  17445.023438  16351.035156  17108.402344  17108.402344   \n",
       "25%    34301.618164  35503.604493  32984.143555  34345.874024  34345.874024   \n",
       "50%    44896.505860  46611.119141  43461.615235  44940.628907  44940.628907   \n",
       "75%    54929.137696  56721.057617  53415.832031  55016.893555  55016.893555   \n",
       "max    67549.734375  68789.625000  66382.062500  67566.828125  67566.828125   \n",
       "\n",
       "             Volume  \n",
       "count  3.660000e+02  \n",
       "mean   4.812912e+10  \n",
       "std    2.442343e+10  \n",
       "min    1.878799e+10  \n",
       "25%    3.369386e+10  \n",
       "50%    4.299405e+10  \n",
       "75%    5.851956e+10  \n",
       "max    3.509679e+11  "
      ]
     },
     "execution_count": 83,
     "metadata": {},
     "output_type": "execute_result"
    }
   ],
   "source": [
    "#summary statistics for all columns\n",
    "Bitcoin.describe()"
   ]
  },
  {
   "cell_type": "code",
   "execution_count": 84,
   "id": "c4e45331",
   "metadata": {},
   "outputs": [
    {
     "data": {
      "text/plain": [
       "count      366.000000\n",
       "mean     43660.341066\n",
       "std      12878.873979\n",
       "min      17108.402344\n",
       "25%      34345.874024\n",
       "50%      44940.628907\n",
       "75%      55016.893555\n",
       "max      67566.828125\n",
       "Name: Close, dtype: float64"
      ]
     },
     "execution_count": 84,
     "metadata": {},
     "output_type": "execute_result"
    }
   ],
   "source": [
    "#summary statictics for single column\n",
    "Bitcoin['Close'].describe()"
   ]
  },
  {
   "cell_type": "code",
   "execution_count": 85,
   "id": "97fdc2fb",
   "metadata": {},
   "outputs": [],
   "source": [
    "#creating return series(creatinga new column\"Return\")\n",
    "Bitcoin['Return'] = Bitcoin['Adj Close'].pct_change()"
   ]
  },
  {
   "cell_type": "code",
   "execution_count": 86,
   "id": "b8b0137a",
   "metadata": {},
   "outputs": [
    {
     "data": {
      "text/html": [
       "<div>\n",
       "<style scoped>\n",
       "    .dataframe tbody tr th:only-of-type {\n",
       "        vertical-align: middle;\n",
       "    }\n",
       "\n",
       "    .dataframe tbody tr th {\n",
       "        vertical-align: top;\n",
       "    }\n",
       "\n",
       "    .dataframe thead th {\n",
       "        text-align: right;\n",
       "    }\n",
       "</style>\n",
       "<table border=\"1\" class=\"dataframe\">\n",
       "  <thead>\n",
       "    <tr style=\"text-align: right;\">\n",
       "      <th></th>\n",
       "      <th>Date</th>\n",
       "      <th>Open</th>\n",
       "      <th>High</th>\n",
       "      <th>Low</th>\n",
       "      <th>Close</th>\n",
       "      <th>Adj Close</th>\n",
       "      <th>Volume</th>\n",
       "      <th>Return</th>\n",
       "    </tr>\n",
       "  </thead>\n",
       "  <tbody>\n",
       "    <tr>\n",
       "      <th>0</th>\n",
       "      <td>2020-11-17</td>\n",
       "      <td>16685.691406</td>\n",
       "      <td>17782.919922</td>\n",
       "      <td>16564.544922</td>\n",
       "      <td>17645.406250</td>\n",
       "      <td>17645.406250</td>\n",
       "      <td>39006849170</td>\n",
       "      <td>NaN</td>\n",
       "    </tr>\n",
       "    <tr>\n",
       "      <th>1</th>\n",
       "      <td>2020-11-18</td>\n",
       "      <td>17645.191406</td>\n",
       "      <td>18393.949219</td>\n",
       "      <td>17352.906250</td>\n",
       "      <td>17804.005859</td>\n",
       "      <td>17804.005859</td>\n",
       "      <td>49064800278</td>\n",
       "      <td>0.008988</td>\n",
       "    </tr>\n",
       "    <tr>\n",
       "      <th>2</th>\n",
       "      <td>2020-11-19</td>\n",
       "      <td>17803.861328</td>\n",
       "      <td>18119.546875</td>\n",
       "      <td>17382.554688</td>\n",
       "      <td>17817.089844</td>\n",
       "      <td>17817.089844</td>\n",
       "      <td>36985055355</td>\n",
       "      <td>0.000735</td>\n",
       "    </tr>\n",
       "    <tr>\n",
       "      <th>3</th>\n",
       "      <td>2020-11-20</td>\n",
       "      <td>17817.083984</td>\n",
       "      <td>18773.226563</td>\n",
       "      <td>17765.794922</td>\n",
       "      <td>18621.314453</td>\n",
       "      <td>18621.314453</td>\n",
       "      <td>36992873940</td>\n",
       "      <td>0.045138</td>\n",
       "    </tr>\n",
       "    <tr>\n",
       "      <th>4</th>\n",
       "      <td>2020-11-21</td>\n",
       "      <td>18621.316406</td>\n",
       "      <td>18936.621094</td>\n",
       "      <td>18444.359375</td>\n",
       "      <td>18642.232422</td>\n",
       "      <td>18642.232422</td>\n",
       "      <td>39650210707</td>\n",
       "      <td>0.001123</td>\n",
       "    </tr>\n",
       "  </tbody>\n",
       "</table>\n",
       "</div>"
      ],
      "text/plain": [
       "         Date          Open          High           Low         Close  \\\n",
       "0  2020-11-17  16685.691406  17782.919922  16564.544922  17645.406250   \n",
       "1  2020-11-18  17645.191406  18393.949219  17352.906250  17804.005859   \n",
       "2  2020-11-19  17803.861328  18119.546875  17382.554688  17817.089844   \n",
       "3  2020-11-20  17817.083984  18773.226563  17765.794922  18621.314453   \n",
       "4  2020-11-21  18621.316406  18936.621094  18444.359375  18642.232422   \n",
       "\n",
       "      Adj Close       Volume    Return  \n",
       "0  17645.406250  39006849170       NaN  \n",
       "1  17804.005859  49064800278  0.008988  \n",
       "2  17817.089844  36985055355  0.000735  \n",
       "3  18621.314453  36992873940  0.045138  \n",
       "4  18642.232422  39650210707  0.001123  "
      ]
     },
     "execution_count": 86,
     "metadata": {},
     "output_type": "execute_result"
    }
   ],
   "source": [
    "Bitcoin.head()"
   ]
  },
  {
   "cell_type": "code",
   "execution_count": 87,
   "id": "32fd0f92",
   "metadata": {},
   "outputs": [
    {
     "data": {
      "text/plain": [
       "0.0042249796778259865"
      ]
     },
     "execution_count": 87,
     "metadata": {},
     "output_type": "execute_result"
    }
   ],
   "source": [
    "np.mean(Bitcoin['Return'])"
   ]
  },
  {
   "cell_type": "code",
   "execution_count": 88,
   "id": "48cd85a6",
   "metadata": {},
   "outputs": [
    {
     "data": {
      "image/png": "[encoded data removed]",
      "text/plain": [
       "<Figure size 432x288 with 1 Axes>"
      ]
     },
     "metadata": {
      "needs_background": "light"
     },
     "output_type": "display_data"
    }
   ],
   "source": [
    "#Plotting closing price\n",
    "ax1 = Bitcoin['Adj Close'].plot(style = ['-'])"
   ]
  },
  {
   "cell_type": "code",
   "execution_count": 89,
   "id": "6153df9d",
   "metadata": {},
   "outputs": [
    {
     "data": {
      "image/png": "[encoded data removed]",
      "text/plain": [
       "<Figure size 432x288 with 1 Axes>"
      ]
     },
     "metadata": {
      "needs_background": "light"
     },
     "output_type": "display_data"
    }
   ],
   "source": [
    "ax2 = Bitcoin['Return'].plot(style = ['-'])"
   ]
  },
  {
   "cell_type": "code",
   "execution_count": 90,
   "id": "51ecc775",
   "metadata": {},
   "outputs": [
    {
     "data": {
      "text/plain": [
       "<AxesSubplot:>"
      ]
     },
     "execution_count": 90,
     "metadata": {},
     "output_type": "execute_result"
    },
    {
     "data": {
      "image/png": "[encoded data removed]",
      "text/plain": [
       "<Figure size 432x288 with 1 Axes>"
      ]
     },
     "metadata": {
      "needs_background": "light"
     },
     "output_type": "display_data"
    }
   ],
   "source": [
    "Bitcoin['Return'].plot(style = ['k.'])"
   ]
  },
  {
   "cell_type": "code",
   "execution_count": 91,
   "id": "2174233d",
   "metadata": {},
   "outputs": [
    {
     "data": {
      "text/plain": [
       "<AxesSubplot:>"
      ]
     },
     "execution_count": 91,
     "metadata": {},
     "output_type": "execute_result"
    },
    {
     "data": {
      "image/png": "[encoded data removed]",
      "text/plain": [
       "<Figure size 432x288 with 1 Axes>"
      ]
     },
     "metadata": {
      "needs_background": "light"
     },
     "output_type": "display_data"
    }
   ],
   "source": [
    "#histagram to show distribution of return variable\n",
    "Bitcoin['Return'].hist()"
   ]
  },
  {
   "cell_type": "code",
   "execution_count": 92,
   "id": "79313964",
   "metadata": {},
   "outputs": [
    {
     "data": {
      "text/plain": [
       "<AxesSubplot:>"
      ]
     },
     "execution_count": 92,
     "metadata": {},
     "output_type": "execute_result"
    },
    {
     "data": {
      "image/png": "[encoded data removed]",
      "text/plain": [
       "<Figure size 432x288 with 1 Axes>"
      ]
     },
     "metadata": {
      "needs_background": "light"
     },
     "output_type": "display_data"
    }
   ],
   "source": [
    "#histagram to show distribution of adjusted closing price variable\n",
    "Bitcoin['Adj Close'].hist()"
   ]
  },
  {
   "cell_type": "code",
   "execution_count": 93,
   "id": "b84f261a",
   "metadata": {},
   "outputs": [
    {
     "data": {
      "text/plain": [
       "<AxesSubplot:ylabel='Density'>"
      ]
     },
     "execution_count": 93,
     "metadata": {},
     "output_type": "execute_result"
    },
    {
     "data": {
      "image/png": "[encoded data removed]",
      "text/plain": [
       "<Figure size 432x288 with 1 Axes>"
      ]
     },
     "metadata": {
      "needs_background": "light"
     },
     "output_type": "display_data"
    }
   ],
   "source": [
    "#kernel density\n",
    "Bitcoin['Adj Close'].plot(kind = 'kde')"
   ]
  },
  {
   "cell_type": "code",
   "execution_count": 94,
   "id": "e2b1986d",
   "metadata": {},
   "outputs": [
    {
     "data": {
      "text/plain": [
       "<AxesSubplot:ylabel='Density'>"
      ]
     },
     "execution_count": 94,
     "metadata": {},
     "output_type": "execute_result"
    },
    {
     "data": {
      "image/png": "[encoded data removed]",
      "text/plain": [
       "<Figure size 432x288 with 1 Axes>"
      ]
     },
     "metadata": {
      "needs_background": "light"
     },
     "output_type": "display_data"
    }
   ],
   "source": [
    "#kernel density\n",
    "Bitcoin['Return'].plot(kind = 'kde')"
   ]
  },
  {
   "cell_type": "code",
   "execution_count": 95,
   "id": "f55bd986",
   "metadata": {},
   "outputs": [
    {
     "name": "stderr",
     "output_type": "stream",
     "text": [
      "C:\\Users\\Xunge\\anaconda3\\lib\\site-packages\\statsmodels\\tsa\\holtwinters\\model.py:427: FutureWarning: After 0.13 initialization must be handled at model creation\n",
      "  warnings.warn(\n"
     ]
    },
    {
     "data": {
      "text/plain": [
       "<AxesSubplot:>"
      ]
     },
     "execution_count": 95,
     "metadata": {},
     "output_type": "execute_result"
    },
    {
     "data": {
      "image/png": "[encoded data removed]",
      "text/plain": [
       "<Figure size 432x288 with 1 Axes>"
      ]
     },
     "metadata": {
      "needs_background": "light"
     },
     "output_type": "display_data"
    }
   ],
   "source": [
    "#exponential smoothing(forecasting):Actual data is in red and predicted data is in blue\n",
    "from statsmodels.tsa.holtwinters import SimpleExpSmoothing\n",
    "\n",
    "model = SimpleExpSmoothing(Bitcoin['Adj Close']).fit(smoothing_level=.01, optimized = False)\n",
    "\n",
    "Bitcoin['Adj Close'].plot(marker='o', color='red')\n",
    "model.fittedvalues.plot(marker='o', color='blue')"
   ]
  },
  {
   "cell_type": "code",
   "execution_count": 96,
   "id": "dfbc9ab4",
   "metadata": {},
   "outputs": [
    {
     "data": {
      "text/plain": [
       "<AxesSubplot:xlabel='y(t)', ylabel='y(t + 1)'>"
      ]
     },
     "execution_count": 96,
     "metadata": {},
     "output_type": "execute_result"
    },
    {
     "data": {
      "image/png": "[encoded data removed]",
      "text/plain": [
       "<Figure size 432x288 with 1 Axes>"
      ]
     },
     "metadata": {
      "needs_background": "light"
     },
     "output_type": "display_data"
    }
   ],
   "source": [
    "# lag plot to check if the series is random\n",
    "\n",
    "from pandas.plotting import lag_plot\n",
    "lag_plot(Bitcoin['Adj Close'])"
   ]
  },
  {
   "cell_type": "code",
   "execution_count": 97,
   "id": "952ca436",
   "metadata": {},
   "outputs": [
    {
     "data": {
      "text/plain": [
       "<AxesSubplot:xlabel='Lag', ylabel='Autocorrelation'>"
      ]
     },
     "execution_count": 97,
     "metadata": {},
     "output_type": "execute_result"
    },
    {
     "data": {
      "image/png": "[encoded data removed]",
      "text/plain": [
       "<Figure size 432x288 with 1 Axes>"
      ]
     },
     "metadata": {
      "needs_background": "light"
     },
     "output_type": "display_data"
    }
   ],
   "source": [
    "#autocorrelation plot/ Atuocorrelation function(ACF)\n",
    "\n",
    "from pandas.plotting import autocorrelation_plot\n",
    "autocorrelation_plot(Bitcoin['Adj Close'])"
   ]
  }
 ],
 "metadata": {
  "kernelspec": {
   "display_name": "Python 3 (ipykernel)",
   "language": "python",
   "name": "python3"
  },
  "language_info": {
   "codemirror_mode": {
    "name": "ipython",
    "version": 3
   },
   "file_extension": ".py",
   "mimetype": "text/x-python",
   "name": "python",
   "nbconvert_exporter": "python",
   "pygments_lexer": "ipython3",
   "version": "3.7.11"
  }
 },
 "nbformat": 4,
 "nbformat_minor": 5
}
