{
 "cells": [
  {
   "cell_type": "code",
   "execution_count": 1,
   "id": "e2ef103d",
   "metadata": {},
   "outputs": [],
   "source": [
    "import pandas as pd\n",
    "import os\n",
    "import glob\n",
    "from datetime import datetime\n",
    "import seaborn as sns\n",
    "from sklearn import metrics\n",
    "from sklearn.metrics import mean_squared_log_error\n",
    "from sklearn.ensemble import RandomForestClassifier\n",
    "from sklearn.preprocessing import LabelEncoder\n"
   ]
  },
  {
   "cell_type": "code",
   "execution_count": 2,
   "id": "f4ee851a",
   "metadata": {},
   "outputs": [],
   "source": [
    "path = '/Users/ishantchaudhary/DL_Assignment/Crypto_data_minute/'\n",
    "extension = 'txt'\n",
    "os.chdir(path)\n",
    "result = glob.glob('*.{}'.format(extension))"
   ]
  },
  {
   "cell_type": "code",
   "execution_count": 3,
   "id": "ac5cbac3",
   "metadata": {},
   "outputs": [],
   "source": [
    "#Appending the dataset of different cryptos with necessary transformations\n",
    "dfs = list()\n",
    "tr_dfs = list()\n",
    "tst_dfs = list()\n",
    "for f in result:\n",
    "#     data = pd.read_csv(f)\n",
    "    data = pd.read_csv(f,header = None)\n",
    "\n",
    "    size = len(f)\n",
    "    data['Crypto'] = f[:size - 9]\n",
    "    data.columns = [ 'DateTime','Open', 'High', 'Low', 'Close', 'Volume','Crypto']\n",
    "    data['DateTime']= pd.to_datetime(data['DateTime'])\n",
    "    data = data.resample('H', on='DateTime').max()\n",
    "    data['DateTime'] = data.index\n",
    "    # adding percentage change in closing price \n",
    "    data['Change_close'] = data['Close'].pct_change()\n",
    "    data['Change_close'] = data['Change_close'].bfill()\n",
    "#   data['true_labels'] = (data['Change_close'] > 0).astype(int)\n",
    "    # feature engineering basic \n",
    "    data['Close t-1'] = data['Close'].shift()\n",
    "    data['Close t-1'] = data['Close t-1'].bfill()\n",
    "    data['Change_close t-1'] = data['Change_close'].shift()\n",
    "    data['Change_close t-1'] = data['Change_close t-1'].bfill()\n",
    "    \n",
    "    # add true labels on basis of change close \n",
    "    data['true_labels'] = (data['Change_close'] > 0).astype(int)\n",
    "    \n",
    "    data['naive_pred'] = data['true_labels'].shift()\n",
    "    data['naive_pred'] = data['naive_pred'].bfill()\n",
    "    # getting train and test\n",
    "    training_data = data[data.DateTime<datetime(2021, 9, 30, 23)]\n",
    "    test_data = data[data.DateTime>=datetime(2021, 9, 30, 23)]\n",
    "    \n",
    "    \n",
    "    dfs.append(data)\n",
    "    tr_dfs.append(training_data)\n",
    "    tst_dfs.append(test_data)\n",
    "\n",
    "df = pd.concat(dfs, ignore_index=True)\n",
    "train_df = pd.concat(tr_dfs, ignore_index=True)\n",
    "test_df = pd.concat(tst_dfs, ignore_index=True)\n",
    "# df.columns = [ 'DateTime','Open', 'High', 'Low', 'Close', 'Volume','Crypto']\n",
    "\n",
    " "
   ]
  },
  {
   "cell_type": "code",
   "execution_count": 4,
   "id": "eddf3a0c",
   "metadata": {},
   "outputs": [],
   "source": [
    "train_df.drop(['Open', 'High', 'Low'], axis=1,inplace =True)\n",
    "test_df.drop(['Open', 'High', 'Low'], axis=1,inplace =True)"
   ]
  },
  {
   "cell_type": "code",
   "execution_count": 5,
   "id": "0a5091a4",
   "metadata": {},
   "outputs": [],
   "source": [
    "train_df.sort_values(by=['DateTime'],inplace=True)\n",
    "train_df.reset_index(inplace=True)\n",
    "train_df = train_df.iloc[: , 1:]"
   ]
  },
  {
   "cell_type": "code",
   "execution_count": 6,
   "id": "946c613e",
   "metadata": {},
   "outputs": [],
   "source": [
    "test_df.sort_values(by=['DateTime'],inplace=True)\n",
    "test_df.reset_index(inplace=True)\n",
    "test_df = test_df.iloc[: , 1:]"
   ]
  },
  {
   "cell_type": "code",
   "execution_count": 7,
   "id": "96e5721c",
   "metadata": {},
   "outputs": [],
   "source": [
    "train_df=train_df.dropna()\n",
    "test_df=test_df.dropna()"
   ]
  },
  {
   "cell_type": "code",
   "execution_count": 8,
   "id": "d918b702",
   "metadata": {},
   "outputs": [
    {
     "data": {
      "text/plain": [
       "DateTime            0\n",
       "Close               0\n",
       "Volume              0\n",
       "Crypto              0\n",
       "Change_close        0\n",
       "Close t-1           0\n",
       "Change_close t-1    0\n",
       "true_labels         0\n",
       "naive_pred          0\n",
       "dtype: int64"
      ]
     },
     "execution_count": 8,
     "metadata": {},
     "output_type": "execute_result"
    }
   ],
   "source": [
    "train_df.isna().sum()"
   ]
  },
  {
   "cell_type": "code",
   "execution_count": 9,
   "id": "2b38a9a6",
   "metadata": {},
   "outputs": [
    {
     "data": {
      "text/plain": [
       "DateTime            0\n",
       "Close               0\n",
       "Volume              0\n",
       "Crypto              0\n",
       "Change_close        0\n",
       "Close t-1           0\n",
       "Change_close t-1    0\n",
       "true_labels         0\n",
       "naive_pred          0\n",
       "dtype: int64"
      ]
     },
     "execution_count": 9,
     "metadata": {},
     "output_type": "execute_result"
    }
   ],
   "source": [
    "test_df.isna().sum()"
   ]
  },
  {
   "cell_type": "code",
   "execution_count": 10,
   "id": "a45de190",
   "metadata": {},
   "outputs": [],
   "source": [
    "def data_model(train_df,test_df,test_start,test_end):\n",
    "    xtr, xts = train_df.drop(['Close','Volume','Change_close','true_labels','naive_pred'], axis=1),\\\n",
    "               test_df.drop(['Volume','Change_close','Close','true_labels','naive_pred'], axis=1)\n",
    "    # xtr['DateTime'], xts['DateTime'] = xtr['DateTime'].astype(str), \n",
    "    #xts['DateTime'].astype(str)\n",
    "\n",
    "    xtr.index,xts.index = xtr['DateTime'], xts['DateTime']\n",
    "    xtr, xts = xtr.drop(['DateTime'], axis=1), xts.drop(['DateTime'], axis=1)\n",
    "    \n",
    "    LE = LabelEncoder()\n",
    "    xtr['Crypto'],xts['Crypto'] = LE.fit_transform(xtr['Crypto']), \\\n",
    "                                    LE.fit_transform(xts['Crypto'])\n",
    "    ytr, yts = train_df['true_labels'].values, test_df['true_labels'].values\n",
    "    \n",
    "    # setting test data according to time specified\n",
    "#     2021-09-30 23:00:00\n",
    "    xts = xts.loc[test_start:test_end]\n",
    "    size = xts.shape[0]\n",
    "    yts = yts[0:size]\n",
    "    \n",
    "    return xtr,ytr,xts,yts\n",
    "    "
   ]
  },
  {
   "cell_type": "code",
   "execution_count": 12,
   "id": "dcdcc9ee",
   "metadata": {},
   "outputs": [],
   "source": [
    "no_est = 50\n",
    "def model_rfc(xtr,ytr,xts,yts,no_est):\n",
    "    clf = RandomForestClassifier(n_estimators=no_est, n_jobs=-1, random_state=0)\n",
    "    clf.fit(xtr, ytr)\n",
    "    pred = clf.predict(xts)\n",
    "    auc = metrics.roc_auc_score(yts, pred)\n",
    "    print(\"No of Estimators\",no_est)\n",
    "    print(\"Timeline:\",str(xts.index[0]),\"---->\",str(xts.index[-1]))\n",
    "    print(\"AUC Score:\",auc)\n",
    "    pred_result = xts.copy()\n",
    "    pred_result['Actual'] = yts.copy()\n",
    "    pred_result['Predicted'] = pred\n",
    "    pred_result.head()"
   ]
  },
  {
   "cell_type": "code",
   "execution_count": 13,
   "id": "37b5cd86",
   "metadata": {},
   "outputs": [],
   "source": [
    "test_start = '2021-09-30 23:00:00'\n",
    "test_end = '2021-10-30 23:00:00'\n",
    "xtr,ytr,xts,yts = data_model(train_df,test_df,test_start,test_end)"
   ]
  },
  {
   "cell_type": "code",
   "execution_count": 14,
   "id": "f8c34b9f",
   "metadata": {},
   "outputs": [
    {
     "name": "stdout",
     "output_type": "stream",
     "text": [
      "No of Estimators 50\n",
      "Timeline: 2021-09-30 23:00:00 ----> 2021-10-30 23:00:00\n",
      "AUC Score: 0.5246329488778055\n"
     ]
    }
   ],
   "source": [
    "no_est = 50\n",
    "model_rfc(xtr,ytr,xts,yts,no_est)"
   ]
  },
  {
   "cell_type": "code",
   "execution_count": 15,
   "id": "dac0faaf",
   "metadata": {},
   "outputs": [
    {
     "name": "stdout",
     "output_type": "stream",
     "text": [
      "No of Estimators 250\n",
      "Timeline: 2021-09-30 23:00:00 ----> 2021-10-30 23:00:00\n",
      "AUC Score: 0.5287507793017456\n"
     ]
    }
   ],
   "source": [
    "no_est = 250\n",
    "model_rfc(xtr,ytr,xts,yts,no_est)"
   ]
  },
  {
   "cell_type": "code",
   "execution_count": null,
   "id": "eb5dd08c",
   "metadata": {},
   "outputs": [],
   "source": []
  }
 ],
 "metadata": {
  "kernelspec": {
   "display_name": "Python 3 (ipykernel)",
   "language": "python",
   "name": "python3"
  },
  "language_info": {
   "codemirror_mode": {
    "name": "ipython",
    "version": 3
   },
   "file_extension": ".py",
   "mimetype": "text/x-python",
   "name": "python",
   "nbconvert_exporter": "python",
   "pygments_lexer": "ipython3",
   "version": "3.9.12"
  },
  "toc-autonumbering": true
 },
 "nbformat": 4,
 "nbformat_minor": 5
}
